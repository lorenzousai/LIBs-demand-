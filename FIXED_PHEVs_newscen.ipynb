{
 "cells": [
  {
   "cell_type": "code",
   "execution_count": 7,
   "metadata": {},
   "outputs": [],
   "source": [
    "def stock_additions_segmented (share_segments, raw_vehicle_stock):\n",
    "    \n",
    "# This function takes the stock in each year and calculates the stock additions for the period 2016-2060\n",
    "# Year 2015 is the total initial stock in that year\n",
    "#Furthermore, it divides the df in segments\n",
    "    \n",
    "    #Clean up the df\n",
    "    \n",
    "    raw_vehicle_stock = raw_vehicle_stock.iloc[:,7:]\n",
    "    raw_vehicle_stock = raw_vehicle_stock.reset_index()\n",
    "    raw_vehicle_stock = raw_vehicle_stock.drop(['index'], axis = 1)\n",
    "    raw_vehicle_stock.index = ['share']\n",
    "    \n",
    "    #Calculate capacity addition per year\n",
    "    #stock_addition = raw_vehicle_stock.diff(axis = 1)\n",
    "    #stock_addition[2015] = raw_vehicle_stock[:,202015]\n",
    "    \n",
    "    stock_segmented = share_segments.dot(raw_vehicle_stock)\n",
    "    return(stock_segmented)"
   ]
  },
  {
   "cell_type": "code",
   "execution_count": 8,
   "metadata": {},
   "outputs": [],
   "source": [
    "\n",
    "def get_share(stock, BEVs, PHEVs, ICEVG, ICEVD):\n",
    "    BEV_share = BEVs.div(stock)\n",
    "    PHEV_share = PHEVs.div(stock)\n",
    "    ICEV_tot = ICEVG + ICEVD\n",
    "    ICEV_share = ICEV_tot.div(stock)\n",
    "    frames = [BEV_share,PHEV_share,ICEV_share]\n",
    "    out = pd.concat(frames)\n",
    "    out.index = ['BEV','PHEV','ICEV']\n",
    "    return(out)"
   ]
  },
  {
   "cell_type": "code",
   "execution_count": 9,
   "metadata": {},
   "outputs": [],
   "source": [
    "import matplotlib.pyplot as plt\n",
    "import scipy.stats as stats\n",
    "import numpy as np\n",
    "import math\n",
    "import pandas as pd\n",
    "from matplotlib.colors import ListedColormap, LinearSegmentedColormap\n",
    "import seaborn as sns\n"
   ]
  },
  {
   "cell_type": "code",
   "execution_count": 10,
   "metadata": {},
   "outputs": [],
   "source": [
    "all = pd.read_excel('ODYM_RECC.xls','Model_Results')"
   ]
  },
  {
   "cell_type": "markdown",
   "metadata": {},
   "source": [
    "## Data from shares of each segment extracted by the ICCT pocketbook 2019/2020. \n",
    "## For now I assume a constant share. This will likely be analysed differently"
   ]
  },
  {
   "cell_type": "code",
   "execution_count": 11,
   "metadata": {},
   "outputs": [],
   "source": [
    "segment = ['A','B','C','D','E','F','J']\n",
    "share = ['0.08','0.2056','0.2658','0.0679','0.0287', '0.0021','0.3499']\n",
    "share = np.array(share,dtype=float)\n",
    "share_df = pd.DataFrame(share,columns=['share'])"
   ]
  },
  {
   "cell_type": "markdown",
   "metadata": {},
   "source": [
    "#### Get stocks of BEVs, ICEVs, PHEVs and outflows\n"
   ]
  },
  {
   "cell_type": "markdown",
   "metadata": {},
   "source": [
    "## Get data for climate policy and socio economic scenarios"
   ]
  },
  {
   "cell_type": "markdown",
   "metadata": {},
   "source": [
    "## PHEVs"
   ]
  },
  {
   "cell_type": "code",
   "execution_count": 12,
   "metadata": {},
   "outputs": [],
   "source": [
    "PHEV_stock = all[all['Indicator'].str.contains('final consumption (use phase inflow), Plugin Hybrid Electric Vehicles (PHEV)', regex = False)]\n",
    "\n",
    "# Baseline LED\n",
    "PHEV_stock_base_LED = PHEV_stock[PHEV_stock['SocEc scen'].str.contains('LED', regex = False)]\n",
    "PHEV_stock_base_LED = PHEV_stock_base_LED[PHEV_stock_base_LED['ClimPol scen'].str.contains('Baseline', regex = False)]\n",
    "\n",
    "#RCP2.6 - LED\n",
    "PHEV_stock_RCP26_LED = PHEV_stock[PHEV_stock['SocEc scen'].str.contains('LED', regex = False)]\n",
    "PHEV_stock_RCP26_LED = PHEV_stock_RCP26_LED[PHEV_stock_RCP26_LED['ClimPol scen'].str.contains('RCP2.6', regex = False)]\n",
    "\n",
    "#Baseline - SSP1\n",
    "PHEV_stock_base_SSP1 = PHEV_stock[PHEV_stock['SocEc scen'].str.contains('SSP1', regex = False)]\n",
    "PHEV_stock_base_SSP1 = PHEV_stock_base_SSP1[PHEV_stock_base_SSP1['ClimPol scen'].str.contains('Baseline', regex = False)]\n",
    "\n",
    "#RCP2.6 - SSP1\n",
    "PHEV_stock_RCP26_SSP1 = PHEV_stock[PHEV_stock['SocEc scen'].str.contains('SSP1', regex = False)]\n",
    "PHEV_stock_RCP26_SSP1 = PHEV_stock_RCP26_SSP1[PHEV_stock_RCP26_SSP1['ClimPol scen'].str.contains('RCP2.6', regex = False)]\n",
    "\n",
    "#RCP2.6 - SSP2\n",
    "PHEV_stock_RCP26_SSP2 = PHEV_stock[PHEV_stock['SocEc scen'].str.contains('SSP2', regex = False)]\n",
    "PHEV_stock_RCP26_SSP2 = PHEV_stock_RCP26_SSP2[PHEV_stock_RCP26_SSP2['ClimPol scen'].str.contains('RCP2.6', regex = False)]\n",
    "\n",
    "#Baseline - SSP2\n",
    "PHEV_stock = PHEV_stock[PHEV_stock['SocEc scen'].str.contains('SSP2', regex = False)]\n",
    "PHEV_stock = PHEV_stock[PHEV_stock['ClimPol scen'].str.contains('Baseline', regex = False)]\n",
    "\n",
    "\n",
    "\n"
   ]
  },
  {
   "cell_type": "markdown",
   "metadata": {},
   "source": [
    "## Divide stock in segments"
   ]
  },
  {
   "cell_type": "code",
   "execution_count": 13,
   "metadata": {},
   "outputs": [
    {
     "output_type": "execute_result",
     "data": {
      "text/plain": [
       "    share\n",
       "0  0.0800\n",
       "1  0.2056\n",
       "2  0.2658\n",
       "3  0.0679\n",
       "4  0.0287\n",
       "5  0.0021\n",
       "6  0.3499"
      ],
      "text/html": "<div>\n<style scoped>\n    .dataframe tbody tr th:only-of-type {\n        vertical-align: middle;\n    }\n\n    .dataframe tbody tr th {\n        vertical-align: top;\n    }\n\n    .dataframe thead th {\n        text-align: right;\n    }\n</style>\n<table border=\"1\" class=\"dataframe\">\n  <thead>\n    <tr style=\"text-align: right;\">\n      <th></th>\n      <th>share</th>\n    </tr>\n  </thead>\n  <tbody>\n    <tr>\n      <th>0</th>\n      <td>0.0800</td>\n    </tr>\n    <tr>\n      <th>1</th>\n      <td>0.2056</td>\n    </tr>\n    <tr>\n      <th>2</th>\n      <td>0.2658</td>\n    </tr>\n    <tr>\n      <th>3</th>\n      <td>0.0679</td>\n    </tr>\n    <tr>\n      <th>4</th>\n      <td>0.0287</td>\n    </tr>\n    <tr>\n      <th>5</th>\n      <td>0.0021</td>\n    </tr>\n    <tr>\n      <th>6</th>\n      <td>0.3499</td>\n    </tr>\n  </tbody>\n</table>\n</div>"
     },
     "metadata": {},
     "execution_count": 13
    }
   ],
   "source": [
    "share_df"
   ]
  },
  {
   "cell_type": "markdown",
   "metadata": {},
   "source": [
    "## Now PHEVs"
   ]
  },
  {
   "cell_type": "code",
   "execution_count": 14,
   "metadata": {},
   "outputs": [],
   "source": [
    "PHEV_stock = PHEV_stock.iloc[:,7:]\n",
    "PHEV_stock = PHEV_stock.reset_index()\n",
    "PHEV_stock = PHEV_stock.drop(['index'], axis=1)\n",
    "PHEV_stock.index = ['share']\n",
    "\n",
    "#intermediate = PHEV_stock [2015]\n",
    "#PHEV_stock = PHEV_stock.diff(axis = 1)\n",
    "#PHEV_stock [2015] = intermediate\n",
    "\n",
    "PHEV_segmented = share_df.dot(PHEV_stock)"
   ]
  },
  {
   "cell_type": "code",
   "execution_count": 15,
   "metadata": {},
   "outputs": [],
   "source": [
    "PHEV_stock_base_LED = PHEV_stock_base_LED.iloc[:,7:]\n",
    "PHEV_stock_base_LED = PHEV_stock_base_LED.reset_index()\n",
    "PHEV_stock_base_LED = PHEV_stock_base_LED.drop(['index'], axis=1)\n",
    "PHEV_stock_base_LED.index = ['share']\n",
    "\n",
    "#intermediate = PHEV_stock_base_SSP1 [2015]\n",
    "#PHEV_stock_base_SSP1 = PHEV_stock_base_SSP1.diff(axis = 1)\n",
    "#PHEV_stock_base_SSP1 [2015] = intermediate\n",
    "\n",
    "PHEV_stock_segment_base_LED= share_df.dot(PHEV_stock_base_LED)\n"
   ]
  },
  {
   "cell_type": "code",
   "execution_count": 16,
   "metadata": {},
   "outputs": [],
   "source": [
    "PHEV_stock_base_SSP1 = PHEV_stock_base_SSP1.iloc[:,7:]\n",
    "PHEV_stock_base_SSP1 = PHEV_stock_base_SSP1.reset_index()\n",
    "PHEV_stock_base_SSP1 = PHEV_stock_base_SSP1.drop(['index'], axis=1)\n",
    "PHEV_stock_base_SSP1.index = ['share']\n",
    "\n",
    "#intermediate = PHEV_stock_base_SSP1 [2015]\n",
    "#PHEV_stock_base_SSP1 = PHEV_stock_base_SSP1.diff(axis = 1)\n",
    "#PHEV_stock_base_SSP1 [2015] = intermediate\n",
    "\n",
    "PHEV_stock_segment_base_SSP1= share_df.dot(PHEV_stock_base_SSP1)"
   ]
  },
  {
   "cell_type": "code",
   "execution_count": 17,
   "metadata": {},
   "outputs": [],
   "source": [
    "PHEV_stock_RCP26_SSP1 = PHEV_stock_RCP26_SSP1.iloc[:,7:]\n",
    "PHEV_stock_RCP26_SSP1 = PHEV_stock_RCP26_SSP1.reset_index()\n",
    "PHEV_stock_RCP26_SSP1 = PHEV_stock_RCP26_SSP1.drop(['index'], axis=1)\n",
    "PHEV_stock_RCP26_SSP1.index = ['share']\n",
    "\n",
    "#intermediate = PHEV_stock_RCP26_SSP1 [2015]\n",
    "#PHEV_stock_RCP26_SSP1 = PHEV_stock_RCP26_SSP1.diff(axis = 1)\n",
    "#PHEV_stock_RCP26_SSP1 [2015] = intermediate\n",
    "\n",
    "PHEV_stock_segment_RCP26_SSP1= share_df.dot(PHEV_stock_RCP26_SSP1)"
   ]
  },
  {
   "cell_type": "code",
   "execution_count": 18,
   "metadata": {},
   "outputs": [],
   "source": [
    "PHEV_stock_RCP26_LED = PHEV_stock_RCP26_LED.iloc[:,7:]\n",
    "PHEV_stock_RCP26_LED = PHEV_stock_RCP26_LED.reset_index()\n",
    "PHEV_stock_RCP26_LED = PHEV_stock_RCP26_LED.drop(['index'], axis=1)\n",
    "PHEV_stock_RCP26_LED.index = ['share']\n",
    "\n",
    "#intermediate = PHEV_stock_RCP26_SSP1 [2015]\n",
    "#PHEV_stock_RCP26_SSP1 = PHEV_stock_RCP26_SSP1.diff(axis = 1)\n",
    "#PHEV_stock_RCP26_SSP1 [2015] = intermediate\n",
    "\n",
    "PHEV_stock_segment_RCP26_LED= share_df.dot(PHEV_stock_RCP26_LED)"
   ]
  },
  {
   "cell_type": "code",
   "execution_count": 19,
   "metadata": {},
   "outputs": [],
   "source": [
    "PHEV_stock_RCP26_SSP2 = PHEV_stock_RCP26_SSP2.iloc[:,7:]\n",
    "PHEV_stock_RCP26_SSP2 = PHEV_stock_RCP26_SSP2.reset_index()\n",
    "PHEV_stock_RCP26_SSP2 = PHEV_stock_RCP26_SSP2.drop(['index'], axis=1)\n",
    "PHEV_stock_RCP26_SSP2.index = ['share']\n",
    "\n",
    "#intermediate = PHEV_stock_RCP26_SSP2 [2015]\n",
    "#PHEV_stock_RCP26_SSP2 = PHEV_stock_RCP26_SSP2.diff(axis = 1)\n",
    "#PHEV_stock_RCP26_SSP2 [2015] = interAmediate\n",
    "\n",
    "PHEV_stock_segment_RCP26_SSP2 = share_df.dot(PHEV_stock_RCP26_SSP2)"
   ]
  },
  {
   "source": [
    "## Reading data with market share of chemistries"
   ],
   "cell_type": "markdown",
   "metadata": {}
  },
  {
   "cell_type": "code",
   "execution_count": 20,
   "metadata": {},
   "outputs": [],
   "source": [
    "chemistries = pd.read_excel('Test_chemistries.xlsx', sheet_name = 'Sheet1', skiprows=24, nrows = 8, usecols = 'B:AV')"
   ]
  },
  {
   "cell_type": "code",
   "execution_count": 21,
   "metadata": {},
   "outputs": [],
   "source": [
    "chemistries = chemistries.set_index(['chemistry'])\n",
    "chemistries = chemistries.interpolate(method = 'linear', axis = 1)"
   ]
  },
  {
   "cell_type": "code",
   "execution_count": 22,
   "metadata": {},
   "outputs": [
    {
     "output_type": "execute_result",
     "data": {
      "text/plain": [
       "           2015   2016   2017   2018   2019  2020   2021   2022   2023   2024  \\\n",
       "chemistry                                                                       \n",
       "NCA        0.15  0.150  0.150  0.150  0.150  0.15  0.148  0.146  0.144  0.142   \n",
       "NCM 532    0.30  0.264  0.228  0.192  0.156  0.12  0.110  0.100  0.090  0.080   \n",
       "NCM 622    0.10  0.126  0.152  0.178  0.204  0.23  0.234  0.238  0.242  0.246   \n",
       "NCM 811    0.00  0.020  0.040  0.060  0.080  0.10  0.117  0.134  0.151  0.168   \n",
       "LFP        0.21  0.208  0.206  0.204  0.202  0.20  0.190  0.180  0.170  0.160   \n",
       "NCM 111    0.24  0.232  0.224  0.216  0.208  0.20  0.180  0.160  0.140  0.120   \n",
       "NCM 955    0.00  0.000  0.000  0.000  0.000  0.00  0.021  0.042  0.063  0.084   \n",
       "Li-S       0.00  0.000  0.000  0.000  0.000  0.00  0.000  0.000  0.000  0.000   \n",
       "\n",
       "           ...  2051  2052  2053  2054  2055  2056  2057  2058  2059  2060  \n",
       "chemistry  ...                                                              \n",
       "NCA        ...  0.07  0.07  0.07  0.07  0.07  0.07  0.07  0.07  0.07  0.07  \n",
       "NCM 532    ...  0.00  0.00  0.00  0.00  0.00  0.00  0.00  0.00  0.00  0.00  \n",
       "NCM 622    ...  0.16  0.16  0.16  0.16  0.16  0.16  0.16  0.16  0.16  0.16  \n",
       "NCM 811    ...  0.30  0.30  0.30  0.30  0.30  0.30  0.30  0.30  0.30  0.30  \n",
       "LFP        ...  0.07  0.07  0.07  0.07  0.07  0.07  0.07  0.07  0.07  0.07  \n",
       "NCM 111    ...  0.00  0.00  0.00  0.00  0.00  0.00  0.00  0.00  0.00  0.00  \n",
       "NCM 955    ...  0.40  0.40  0.40  0.40  0.40  0.40  0.40  0.40  0.40  0.40  \n",
       "Li-S       ...  0.00  0.00  0.00  0.00  0.00  0.00  0.00  0.00  0.00  0.00  \n",
       "\n",
       "[8 rows x 46 columns]"
      ],
      "text/html": "<div>\n<style scoped>\n    .dataframe tbody tr th:only-of-type {\n        vertical-align: middle;\n    }\n\n    .dataframe tbody tr th {\n        vertical-align: top;\n    }\n\n    .dataframe thead th {\n        text-align: right;\n    }\n</style>\n<table border=\"1\" class=\"dataframe\">\n  <thead>\n    <tr style=\"text-align: right;\">\n      <th></th>\n      <th>2015</th>\n      <th>2016</th>\n      <th>2017</th>\n      <th>2018</th>\n      <th>2019</th>\n      <th>2020</th>\n      <th>2021</th>\n      <th>2022</th>\n      <th>2023</th>\n      <th>2024</th>\n      <th>...</th>\n      <th>2051</th>\n      <th>2052</th>\n      <th>2053</th>\n      <th>2054</th>\n      <th>2055</th>\n      <th>2056</th>\n      <th>2057</th>\n      <th>2058</th>\n      <th>2059</th>\n      <th>2060</th>\n    </tr>\n    <tr>\n      <th>chemistry</th>\n      <th></th>\n      <th></th>\n      <th></th>\n      <th></th>\n      <th></th>\n      <th></th>\n      <th></th>\n      <th></th>\n      <th></th>\n      <th></th>\n      <th></th>\n      <th></th>\n      <th></th>\n      <th></th>\n      <th></th>\n      <th></th>\n      <th></th>\n      <th></th>\n      <th></th>\n      <th></th>\n      <th></th>\n    </tr>\n  </thead>\n  <tbody>\n    <tr>\n      <th>NCA</th>\n      <td>0.15</td>\n      <td>0.150</td>\n      <td>0.150</td>\n      <td>0.150</td>\n      <td>0.150</td>\n      <td>0.15</td>\n      <td>0.148</td>\n      <td>0.146</td>\n      <td>0.144</td>\n      <td>0.142</td>\n      <td>...</td>\n      <td>0.07</td>\n      <td>0.07</td>\n      <td>0.07</td>\n      <td>0.07</td>\n      <td>0.07</td>\n      <td>0.07</td>\n      <td>0.07</td>\n      <td>0.07</td>\n      <td>0.07</td>\n      <td>0.07</td>\n    </tr>\n    <tr>\n      <th>NCM 532</th>\n      <td>0.30</td>\n      <td>0.264</td>\n      <td>0.228</td>\n      <td>0.192</td>\n      <td>0.156</td>\n      <td>0.12</td>\n      <td>0.110</td>\n      <td>0.100</td>\n      <td>0.090</td>\n      <td>0.080</td>\n      <td>...</td>\n      <td>0.00</td>\n      <td>0.00</td>\n      <td>0.00</td>\n      <td>0.00</td>\n      <td>0.00</td>\n      <td>0.00</td>\n      <td>0.00</td>\n      <td>0.00</td>\n      <td>0.00</td>\n      <td>0.00</td>\n    </tr>\n    <tr>\n      <th>NCM 622</th>\n      <td>0.10</td>\n      <td>0.126</td>\n      <td>0.152</td>\n      <td>0.178</td>\n      <td>0.204</td>\n      <td>0.23</td>\n      <td>0.234</td>\n      <td>0.238</td>\n      <td>0.242</td>\n      <td>0.246</td>\n      <td>...</td>\n      <td>0.16</td>\n      <td>0.16</td>\n      <td>0.16</td>\n      <td>0.16</td>\n      <td>0.16</td>\n      <td>0.16</td>\n      <td>0.16</td>\n      <td>0.16</td>\n      <td>0.16</td>\n      <td>0.16</td>\n    </tr>\n    <tr>\n      <th>NCM 811</th>\n      <td>0.00</td>\n      <td>0.020</td>\n      <td>0.040</td>\n      <td>0.060</td>\n      <td>0.080</td>\n      <td>0.10</td>\n      <td>0.117</td>\n      <td>0.134</td>\n      <td>0.151</td>\n      <td>0.168</td>\n      <td>...</td>\n      <td>0.30</td>\n      <td>0.30</td>\n      <td>0.30</td>\n      <td>0.30</td>\n      <td>0.30</td>\n      <td>0.30</td>\n      <td>0.30</td>\n      <td>0.30</td>\n      <td>0.30</td>\n      <td>0.30</td>\n    </tr>\n    <tr>\n      <th>LFP</th>\n      <td>0.21</td>\n      <td>0.208</td>\n      <td>0.206</td>\n      <td>0.204</td>\n      <td>0.202</td>\n      <td>0.20</td>\n      <td>0.190</td>\n      <td>0.180</td>\n      <td>0.170</td>\n      <td>0.160</td>\n      <td>...</td>\n      <td>0.07</td>\n      <td>0.07</td>\n      <td>0.07</td>\n      <td>0.07</td>\n      <td>0.07</td>\n      <td>0.07</td>\n      <td>0.07</td>\n      <td>0.07</td>\n      <td>0.07</td>\n      <td>0.07</td>\n    </tr>\n    <tr>\n      <th>NCM 111</th>\n      <td>0.24</td>\n      <td>0.232</td>\n      <td>0.224</td>\n      <td>0.216</td>\n      <td>0.208</td>\n      <td>0.20</td>\n      <td>0.180</td>\n      <td>0.160</td>\n      <td>0.140</td>\n      <td>0.120</td>\n      <td>...</td>\n      <td>0.00</td>\n      <td>0.00</td>\n      <td>0.00</td>\n      <td>0.00</td>\n      <td>0.00</td>\n      <td>0.00</td>\n      <td>0.00</td>\n      <td>0.00</td>\n      <td>0.00</td>\n      <td>0.00</td>\n    </tr>\n    <tr>\n      <th>NCM 955</th>\n      <td>0.00</td>\n      <td>0.000</td>\n      <td>0.000</td>\n      <td>0.000</td>\n      <td>0.000</td>\n      <td>0.00</td>\n      <td>0.021</td>\n      <td>0.042</td>\n      <td>0.063</td>\n      <td>0.084</td>\n      <td>...</td>\n      <td>0.40</td>\n      <td>0.40</td>\n      <td>0.40</td>\n      <td>0.40</td>\n      <td>0.40</td>\n      <td>0.40</td>\n      <td>0.40</td>\n      <td>0.40</td>\n      <td>0.40</td>\n      <td>0.40</td>\n    </tr>\n    <tr>\n      <th>Li-S</th>\n      <td>0.00</td>\n      <td>0.000</td>\n      <td>0.000</td>\n      <td>0.000</td>\n      <td>0.000</td>\n      <td>0.00</td>\n      <td>0.000</td>\n      <td>0.000</td>\n      <td>0.000</td>\n      <td>0.000</td>\n      <td>...</td>\n      <td>0.00</td>\n      <td>0.00</td>\n      <td>0.00</td>\n      <td>0.00</td>\n      <td>0.00</td>\n      <td>0.00</td>\n      <td>0.00</td>\n      <td>0.00</td>\n      <td>0.00</td>\n      <td>0.00</td>\n    </tr>\n  </tbody>\n</table>\n<p>8 rows × 46 columns</p>\n</div>"
     },
     "metadata": {},
     "execution_count": 22
    }
   ],
   "source": [
    "chemistries"
   ]
  },
  {
   "cell_type": "code",
   "execution_count": 23,
   "metadata": {},
   "outputs": [],
   "source": [
    "col1 = np.array([169/256, 169/ 256, 169/256, 1])\n",
    "my_map = LinearSegmentedColormap.from_list('paired',colors=[ col1,'xkcd:dull blue','xkcd:asparagus',\n",
    "                                                           'xkcd:light orange',\n",
    "                                                            'xkcd:reddish','xkcd:light eggplant','xkcd:sandy','xkcd:burgundy'], N=8)\n"
   ]
  },
  {
   "cell_type": "code",
   "execution_count": 24,
   "metadata": {},
   "outputs": [
    {
     "output_type": "display_data",
     "data": {
      "text/plain": "<Figure size 1382.4x792 with 1 Axes>",
      "image/svg+xml": "<?xml version=\"1.0\" encoding=\"utf-8\" standalone=\"no\"?>\r\n<!DOCTYPE svg PUBLIC \"-//W3C//DTD SVG 1.1//EN\"\r\n  \"http://www.w3.org/Graphics/SVG/1.1/DTD/svg11.dtd\">\r\n<!-- Created with matplotlib (https://matplotlib.org/) -->\r\n<svg height=\"731.926pt\" version=\"1.1\" viewBox=\"0 0 1138.565 731.926\" width=\"1138.565pt\" xmlns=\"http://www.w3.org/2000/svg\" xmlns:xlink=\"http://www.w3.org/1999/xlink\">\r\n <defs>\r\n  <style type=\"text/css\">\r\n*{stroke-linecap:butt;stroke-linejoin:round;white-space:pre;}\r\n  </style>\r\n </defs>\r\n <g id=\"figure_1\">\r\n  <g id=\"patch_1\">\r\n   <path d=\"M 0 731.926 \r\nL 1138.565 731.926 \r\nL 1138.565 0 \r\nL 0 0 \r\nz\r\n\" style=\"fill:none;\"/>\r\n  </g>\r\n  <g id=\"axes_1\">\r\n   <g id=\"patch_2\">\r\n    <path d=\"M 39.645 605.16 \r\nL 1111.005 605.16 \r\nL 1111.005 7.2 \r\nL 39.645 7.2 \r\nz\r\n\" style=\"fill:#ffffff;\"/>\r\n   </g>\r\n   <g id=\"PolyCollection_1\">\r\n    <defs>\r\n     <path d=\"M 39.645 -212.188857 \r\nL 39.645 -126.766 \r\nL 63.453 -126.766 \r\nL 87.261 -126.766 \r\nL 111.069 -126.766 \r\nL 134.877 -126.766 \r\nL 158.685 -126.766 \r\nL 182.493 -126.766 \r\nL 206.301 -126.766 \r\nL 230.109 -126.766 \r\nL 253.917 -126.766 \r\nL 277.725 -126.766 \r\nL 301.533 -126.766 \r\nL 325.341 -126.766 \r\nL 349.149 -126.766 \r\nL 372.957 -126.766 \r\nL 396.765 -126.766 \r\nL 420.573 -126.766 \r\nL 444.381 -126.766 \r\nL 468.189 -126.766 \r\nL 491.997 -126.766 \r\nL 515.805 -126.766 \r\nL 539.613 -126.766 \r\nL 563.421 -126.766 \r\nL 587.229 -126.766 \r\nL 611.037 -126.766 \r\nL 634.845 -126.766 \r\nL 658.653 -126.766 \r\nL 682.461 -126.766 \r\nL 706.269 -126.766 \r\nL 730.077 -126.766 \r\nL 753.885 -126.766 \r\nL 777.693 -126.766 \r\nL 801.501 -126.766 \r\nL 825.309 -126.766 \r\nL 849.117 -126.766 \r\nL 872.925 -126.766 \r\nL 896.733 -126.766 \r\nL 920.541 -126.766 \r\nL 944.349 -126.766 \r\nL 968.157 -126.766 \r\nL 991.965 -126.766 \r\nL 1015.773 -126.766 \r\nL 1039.581 -126.766 \r\nL 1063.389 -126.766 \r\nL 1087.197 -126.766 \r\nL 1111.005 -126.766 \r\nL 1111.005 -166.63 \r\nL 1111.005 -166.63 \r\nL 1087.197 -166.63 \r\nL 1063.389 -166.63 \r\nL 1039.581 -166.63 \r\nL 1015.773 -166.63 \r\nL 991.965 -166.63 \r\nL 968.157 -166.63 \r\nL 944.349 -166.63 \r\nL 920.541 -166.63 \r\nL 896.733 -166.63 \r\nL 872.925 -166.63 \r\nL 849.117 -166.63 \r\nL 825.309 -166.63 \r\nL 801.501 -166.63 \r\nL 777.693 -166.63 \r\nL 753.885 -166.63 \r\nL 730.077 -166.63 \r\nL 706.269 -166.63 \r\nL 682.461 -166.63 \r\nL 658.653 -166.63 \r\nL 634.845 -166.63 \r\nL 611.037 -170.046914 \r\nL 587.229 -173.463829 \r\nL 563.421 -176.880743 \r\nL 539.613 -180.297657 \r\nL 515.805 -183.714571 \r\nL 491.997 -187.131486 \r\nL 468.189 -190.5484 \r\nL 444.381 -193.965314 \r\nL 420.573 -197.382229 \r\nL 396.765 -200.799143 \r\nL 372.957 -201.938114 \r\nL 349.149 -203.077086 \r\nL 325.341 -204.216057 \r\nL 301.533 -205.355029 \r\nL 277.725 -206.494 \r\nL 253.917 -207.632971 \r\nL 230.109 -208.771943 \r\nL 206.301 -209.910914 \r\nL 182.493 -211.049886 \r\nL 158.685 -212.188857 \r\nL 134.877 -212.188857 \r\nL 111.069 -212.188857 \r\nL 87.261 -212.188857 \r\nL 63.453 -212.188857 \r\nL 39.645 -212.188857 \r\nz\r\n\" id=\"m9c762691a6\" style=\"stroke:#a8a8a8;\"/>\r\n    </defs>\r\n    <g clip-path=\"url(#p8f1345cd55)\">\r\n     <use style=\"fill:#a8a8a8;stroke:#a8a8a8;\" x=\"0\" xlink:href=\"#m9c762691a6\" y=\"731.926\"/>\r\n    </g>\r\n   </g>\r\n   <g id=\"PolyCollection_2\">\r\n    <defs>\r\n     <path d=\"M 39.645 -383.034571 \r\nL 39.645 -212.188857 \r\nL 63.453 -212.188857 \r\nL 87.261 -212.188857 \r\nL 111.069 -212.188857 \r\nL 134.877 -212.188857 \r\nL 158.685 -212.188857 \r\nL 182.493 -211.049886 \r\nL 206.301 -209.910914 \r\nL 230.109 -208.771943 \r\nL 253.917 -207.632971 \r\nL 277.725 -206.494 \r\nL 301.533 -205.355029 \r\nL 325.341 -204.216057 \r\nL 349.149 -203.077086 \r\nL 372.957 -201.938114 \r\nL 396.765 -200.799143 \r\nL 420.573 -197.382229 \r\nL 444.381 -193.965314 \r\nL 468.189 -190.5484 \r\nL 491.997 -187.131486 \r\nL 515.805 -183.714571 \r\nL 539.613 -180.297657 \r\nL 563.421 -176.880743 \r\nL 587.229 -173.463829 \r\nL 611.037 -170.046914 \r\nL 634.845 -166.63 \r\nL 658.653 -166.63 \r\nL 682.461 -166.63 \r\nL 706.269 -166.63 \r\nL 730.077 -166.63 \r\nL 753.885 -166.63 \r\nL 777.693 -166.63 \r\nL 801.501 -166.63 \r\nL 825.309 -166.63 \r\nL 849.117 -166.63 \r\nL 872.925 -166.63 \r\nL 896.733 -166.63 \r\nL 920.541 -166.63 \r\nL 944.349 -166.63 \r\nL 968.157 -166.63 \r\nL 991.965 -166.63 \r\nL 1015.773 -166.63 \r\nL 1039.581 -166.63 \r\nL 1063.389 -166.63 \r\nL 1087.197 -166.63 \r\nL 1111.005 -166.63 \r\nL 1111.005 -166.63 \r\nL 1111.005 -166.63 \r\nL 1087.197 -166.63 \r\nL 1063.389 -166.63 \r\nL 1039.581 -166.63 \r\nL 1015.773 -166.63 \r\nL 991.965 -166.63 \r\nL 968.157 -166.63 \r\nL 944.349 -166.63 \r\nL 920.541 -166.63 \r\nL 896.733 -166.63 \r\nL 872.925 -166.63 \r\nL 849.117 -166.63 \r\nL 825.309 -166.63 \r\nL 801.501 -166.63 \r\nL 777.693 -166.63 \r\nL 753.885 -166.63 \r\nL 730.077 -166.63 \r\nL 706.269 -166.63 \r\nL 682.461 -166.63 \r\nL 658.653 -166.63 \r\nL 634.845 -166.63 \r\nL 611.037 -171.185886 \r\nL 587.229 -175.741771 \r\nL 563.421 -180.297657 \r\nL 539.613 -184.853543 \r\nL 515.805 -189.409429 \r\nL 491.997 -193.965314 \r\nL 468.189 -198.5212 \r\nL 444.381 -203.077086 \r\nL 420.573 -207.632971 \r\nL 396.765 -212.188857 \r\nL 372.957 -219.022686 \r\nL 349.149 -225.856514 \r\nL 325.341 -232.690343 \r\nL 301.533 -239.524171 \r\nL 277.725 -246.358 \r\nL 253.917 -253.191829 \r\nL 230.109 -260.025657 \r\nL 206.301 -266.859486 \r\nL 182.493 -273.693314 \r\nL 158.685 -280.527143 \r\nL 134.877 -301.028629 \r\nL 111.069 -321.530114 \r\nL 87.261 -342.0316 \r\nL 63.453 -362.533086 \r\nL 39.645 -383.034571 \r\nz\r\n\" id=\"m5e50d3d142\" style=\"stroke:#49759c;\"/>\r\n    </defs>\r\n    <g clip-path=\"url(#p8f1345cd55)\">\r\n     <use style=\"fill:#49759c;stroke:#49759c;\" x=\"0\" xlink:href=\"#m5e50d3d142\" y=\"731.926\"/>\r\n    </g>\r\n   </g>\r\n   <g id=\"PolyCollection_3\">\r\n    <defs>\r\n     <path d=\"M 39.645 -439.983143 \r\nL 39.645 -383.034571 \r\nL 63.453 -362.533086 \r\nL 87.261 -342.0316 \r\nL 111.069 -321.530114 \r\nL 134.877 -301.028629 \r\nL 158.685 -280.527143 \r\nL 182.493 -273.693314 \r\nL 206.301 -266.859486 \r\nL 230.109 -260.025657 \r\nL 253.917 -253.191829 \r\nL 277.725 -246.358 \r\nL 301.533 -239.524171 \r\nL 325.341 -232.690343 \r\nL 349.149 -225.856514 \r\nL 372.957 -219.022686 \r\nL 396.765 -212.188857 \r\nL 420.573 -207.632971 \r\nL 444.381 -203.077086 \r\nL 468.189 -198.5212 \r\nL 491.997 -193.965314 \r\nL 515.805 -189.409429 \r\nL 539.613 -184.853543 \r\nL 563.421 -180.297657 \r\nL 587.229 -175.741771 \r\nL 611.037 -171.185886 \r\nL 634.845 -166.63 \r\nL 658.653 -166.63 \r\nL 682.461 -166.63 \r\nL 706.269 -166.63 \r\nL 730.077 -166.63 \r\nL 753.885 -166.63 \r\nL 777.693 -166.63 \r\nL 801.501 -166.63 \r\nL 825.309 -166.63 \r\nL 849.117 -166.63 \r\nL 872.925 -166.63 \r\nL 896.733 -166.63 \r\nL 920.541 -166.63 \r\nL 944.349 -166.63 \r\nL 968.157 -166.63 \r\nL 991.965 -166.63 \r\nL 1015.773 -166.63 \r\nL 1039.581 -166.63 \r\nL 1063.389 -166.63 \r\nL 1087.197 -166.63 \r\nL 1111.005 -166.63 \r\nL 1111.005 -257.747714 \r\nL 1111.005 -257.747714 \r\nL 1087.197 -257.747714 \r\nL 1063.389 -257.747714 \r\nL 1039.581 -257.747714 \r\nL 1015.773 -257.747714 \r\nL 991.965 -257.747714 \r\nL 968.157 -257.747714 \r\nL 944.349 -257.747714 \r\nL 920.541 -257.747714 \r\nL 896.733 -257.747714 \r\nL 872.925 -257.747714 \r\nL 849.117 -257.747714 \r\nL 825.309 -257.747714 \r\nL 801.501 -257.747714 \r\nL 777.693 -257.747714 \r\nL 753.885 -257.747714 \r\nL 730.077 -257.747714 \r\nL 706.269 -257.747714 \r\nL 682.461 -257.747714 \r\nL 658.653 -257.747714 \r\nL 634.845 -257.747714 \r\nL 611.037 -268.567943 \r\nL 587.229 -279.388171 \r\nL 563.421 -290.2084 \r\nL 539.613 -301.028629 \r\nL 515.805 -311.848857 \r\nL 491.997 -322.669086 \r\nL 468.189 -333.489314 \r\nL 444.381 -344.309543 \r\nL 420.573 -355.129771 \r\nL 396.765 -365.95 \r\nL 372.957 -370.505886 \r\nL 349.149 -375.061771 \r\nL 325.341 -379.617657 \r\nL 301.533 -384.173543 \r\nL 277.725 -388.729429 \r\nL 253.917 -393.285314 \r\nL 230.109 -397.8412 \r\nL 206.301 -402.397086 \r\nL 182.493 -406.952971 \r\nL 158.685 -411.508857 \r\nL 134.877 -417.203714 \r\nL 111.069 -422.898571 \r\nL 87.261 -428.593429 \r\nL 63.453 -434.288286 \r\nL 39.645 -439.983143 \r\nz\r\n\" id=\"mf0da3d9472\" style=\"stroke:#77ab56;\"/>\r\n    </defs>\r\n    <g clip-path=\"url(#p8f1345cd55)\">\r\n     <use style=\"fill:#77ab56;stroke:#77ab56;\" x=\"0\" xlink:href=\"#mf0da3d9472\" y=\"731.926\"/>\r\n    </g>\r\n   </g>\r\n   <g id=\"PolyCollection_4\">\r\n    <defs>\r\n     <path d=\"M 39.645 -439.983143 \r\nL 39.645 -439.983143 \r\nL 63.453 -434.288286 \r\nL 87.261 -428.593429 \r\nL 111.069 -422.898571 \r\nL 134.877 -417.203714 \r\nL 158.685 -411.508857 \r\nL 182.493 -406.952971 \r\nL 206.301 -402.397086 \r\nL 230.109 -397.8412 \r\nL 253.917 -393.285314 \r\nL 277.725 -388.729429 \r\nL 301.533 -384.173543 \r\nL 325.341 -379.617657 \r\nL 349.149 -375.061771 \r\nL 372.957 -370.505886 \r\nL 396.765 -365.95 \r\nL 420.573 -355.129771 \r\nL 444.381 -344.309543 \r\nL 468.189 -333.489314 \r\nL 491.997 -322.669086 \r\nL 515.805 -311.848857 \r\nL 539.613 -301.028629 \r\nL 563.421 -290.2084 \r\nL 587.229 -279.388171 \r\nL 611.037 -268.567943 \r\nL 634.845 -257.747714 \r\nL 658.653 -257.747714 \r\nL 682.461 -257.747714 \r\nL 706.269 -257.747714 \r\nL 730.077 -257.747714 \r\nL 753.885 -257.747714 \r\nL 777.693 -257.747714 \r\nL 801.501 -257.747714 \r\nL 825.309 -257.747714 \r\nL 849.117 -257.747714 \r\nL 872.925 -257.747714 \r\nL 896.733 -257.747714 \r\nL 920.541 -257.747714 \r\nL 944.349 -257.747714 \r\nL 968.157 -257.747714 \r\nL 991.965 -257.747714 \r\nL 1015.773 -257.747714 \r\nL 1039.581 -257.747714 \r\nL 1063.389 -257.747714 \r\nL 1087.197 -257.747714 \r\nL 1111.005 -257.747714 \r\nL 1111.005 -428.593429 \r\nL 1111.005 -428.593429 \r\nL 1087.197 -428.593429 \r\nL 1063.389 -428.593429 \r\nL 1039.581 -428.593429 \r\nL 1015.773 -428.593429 \r\nL 991.965 -428.593429 \r\nL 968.157 -428.593429 \r\nL 944.349 -428.593429 \r\nL 920.541 -428.593429 \r\nL 896.733 -428.593429 \r\nL 872.925 -428.593429 \r\nL 849.117 -437.135714 \r\nL 825.309 -445.678 \r\nL 801.501 -454.220286 \r\nL 777.693 -462.762571 \r\nL 753.885 -471.304857 \r\nL 730.077 -479.847143 \r\nL 706.269 -488.389429 \r\nL 682.461 -496.931714 \r\nL 658.653 -505.474 \r\nL 634.845 -514.016286 \r\nL 611.037 -514.585771 \r\nL 587.229 -515.155257 \r\nL 563.421 -515.724743 \r\nL 539.613 -516.294229 \r\nL 515.805 -516.863714 \r\nL 491.997 -517.4332 \r\nL 468.189 -518.002686 \r\nL 444.381 -518.572171 \r\nL 420.573 -519.141657 \r\nL 396.765 -519.711143 \r\nL 372.957 -514.585771 \r\nL 349.149 -509.4604 \r\nL 325.341 -504.335029 \r\nL 301.533 -499.209657 \r\nL 277.725 -494.084286 \r\nL 253.917 -488.958914 \r\nL 230.109 -483.833543 \r\nL 206.301 -478.708171 \r\nL 182.493 -473.5828 \r\nL 158.685 -468.457429 \r\nL 134.877 -462.762571 \r\nL 111.069 -457.067714 \r\nL 87.261 -451.372857 \r\nL 63.453 -445.678 \r\nL 39.645 -439.983143 \r\nz\r\n\" id=\"mb8b41753e4\" style=\"stroke:#fdaa48;\"/>\r\n    </defs>\r\n    <g clip-path=\"url(#p8f1345cd55)\">\r\n     <use style=\"fill:#fdaa48;stroke:#fdaa48;\" x=\"0\" xlink:href=\"#mb8b41753e4\" y=\"731.926\"/>\r\n    </g>\r\n   </g>\r\n   <g id=\"PolyCollection_5\">\r\n    <defs>\r\n     <path d=\"M 39.645 -559.575143 \r\nL 39.645 -439.983143 \r\nL 63.453 -445.678 \r\nL 87.261 -451.372857 \r\nL 111.069 -457.067714 \r\nL 134.877 -462.762571 \r\nL 158.685 -468.457429 \r\nL 182.493 -473.5828 \r\nL 206.301 -478.708171 \r\nL 230.109 -483.833543 \r\nL 253.917 -488.958914 \r\nL 277.725 -494.084286 \r\nL 301.533 -499.209657 \r\nL 325.341 -504.335029 \r\nL 349.149 -509.4604 \r\nL 372.957 -514.585771 \r\nL 396.765 -519.711143 \r\nL 420.573 -519.141657 \r\nL 444.381 -518.572171 \r\nL 468.189 -518.002686 \r\nL 491.997 -517.4332 \r\nL 515.805 -516.863714 \r\nL 539.613 -516.294229 \r\nL 563.421 -515.724743 \r\nL 587.229 -515.155257 \r\nL 611.037 -514.585771 \r\nL 634.845 -514.016286 \r\nL 658.653 -505.474 \r\nL 682.461 -496.931714 \r\nL 706.269 -488.389429 \r\nL 730.077 -479.847143 \r\nL 753.885 -471.304857 \r\nL 777.693 -462.762571 \r\nL 801.501 -454.220286 \r\nL 825.309 -445.678 \r\nL 849.117 -437.135714 \r\nL 872.925 -428.593429 \r\nL 896.733 -428.593429 \r\nL 920.541 -428.593429 \r\nL 944.349 -428.593429 \r\nL 968.157 -428.593429 \r\nL 991.965 -428.593429 \r\nL 1015.773 -428.593429 \r\nL 1039.581 -428.593429 \r\nL 1063.389 -428.593429 \r\nL 1087.197 -428.593429 \r\nL 1111.005 -428.593429 \r\nL 1111.005 -468.457429 \r\nL 1111.005 -468.457429 \r\nL 1087.197 -468.457429 \r\nL 1063.389 -468.457429 \r\nL 1039.581 -468.457429 \r\nL 1015.773 -468.457429 \r\nL 991.965 -468.457429 \r\nL 968.157 -468.457429 \r\nL 944.349 -468.457429 \r\nL 920.541 -468.457429 \r\nL 896.733 -468.457429 \r\nL 872.925 -468.457429 \r\nL 849.117 -476.999714 \r\nL 825.309 -485.542 \r\nL 801.501 -494.084286 \r\nL 777.693 -502.626571 \r\nL 753.885 -511.168857 \r\nL 730.077 -519.711143 \r\nL 706.269 -528.253429 \r\nL 682.461 -536.795714 \r\nL 658.653 -545.338 \r\nL 634.845 -553.880286 \r\nL 611.037 -556.158229 \r\nL 587.229 -558.436171 \r\nL 563.421 -560.714114 \r\nL 539.613 -562.992057 \r\nL 515.805 -565.27 \r\nL 491.997 -567.547943 \r\nL 468.189 -569.825886 \r\nL 444.381 -572.103829 \r\nL 420.573 -574.381771 \r\nL 396.765 -576.659714 \r\nL 372.957 -577.2292 \r\nL 349.149 -577.798686 \r\nL 325.341 -578.368171 \r\nL 301.533 -578.937657 \r\nL 277.725 -579.507143 \r\nL 253.917 -580.076629 \r\nL 230.109 -580.646114 \r\nL 206.301 -581.2156 \r\nL 182.493 -581.785086 \r\nL 158.685 -582.354571 \r\nL 134.877 -577.798686 \r\nL 111.069 -573.2428 \r\nL 87.261 -568.686914 \r\nL 63.453 -564.131029 \r\nL 39.645 -559.575143 \r\nz\r\n\" id=\"mdd9c136f47\" style=\"stroke:#c44240;\"/>\r\n    </defs>\r\n    <g clip-path=\"url(#p8f1345cd55)\">\r\n     <use style=\"fill:#c44240;stroke:#c44240;\" x=\"0\" xlink:href=\"#mdd9c136f47\" y=\"731.926\"/>\r\n    </g>\r\n   </g>\r\n   <g id=\"PolyCollection_6\">\r\n    <defs>\r\n     <path d=\"M 39.645 -696.251714 \r\nL 39.645 -559.575143 \r\nL 63.453 -564.131029 \r\nL 87.261 -568.686914 \r\nL 111.069 -573.2428 \r\nL 134.877 -577.798686 \r\nL 158.685 -582.354571 \r\nL 182.493 -581.785086 \r\nL 206.301 -581.2156 \r\nL 230.109 -580.646114 \r\nL 253.917 -580.076629 \r\nL 277.725 -579.507143 \r\nL 301.533 -578.937657 \r\nL 325.341 -578.368171 \r\nL 349.149 -577.798686 \r\nL 372.957 -577.2292 \r\nL 396.765 -576.659714 \r\nL 420.573 -574.381771 \r\nL 444.381 -572.103829 \r\nL 468.189 -569.825886 \r\nL 491.997 -567.547943 \r\nL 515.805 -565.27 \r\nL 539.613 -562.992057 \r\nL 563.421 -560.714114 \r\nL 587.229 -558.436171 \r\nL 611.037 -556.158229 \r\nL 634.845 -553.880286 \r\nL 658.653 -545.338 \r\nL 682.461 -536.795714 \r\nL 706.269 -528.253429 \r\nL 730.077 -519.711143 \r\nL 753.885 -511.168857 \r\nL 777.693 -502.626571 \r\nL 801.501 -494.084286 \r\nL 825.309 -485.542 \r\nL 849.117 -476.999714 \r\nL 872.925 -468.457429 \r\nL 896.733 -468.457429 \r\nL 920.541 -468.457429 \r\nL 944.349 -468.457429 \r\nL 968.157 -468.457429 \r\nL 991.965 -468.457429 \r\nL 1015.773 -468.457429 \r\nL 1039.581 -468.457429 \r\nL 1063.389 -468.457429 \r\nL 1087.197 -468.457429 \r\nL 1111.005 -468.457429 \r\nL 1111.005 -468.457429 \r\nL 1111.005 -468.457429 \r\nL 1087.197 -468.457429 \r\nL 1063.389 -468.457429 \r\nL 1039.581 -468.457429 \r\nL 1015.773 -468.457429 \r\nL 991.965 -468.457429 \r\nL 968.157 -468.457429 \r\nL 944.349 -468.457429 \r\nL 920.541 -468.457429 \r\nL 896.733 -468.457429 \r\nL 872.925 -468.457429 \r\nL 849.117 -476.999714 \r\nL 825.309 -485.542 \r\nL 801.501 -494.084286 \r\nL 777.693 -502.626571 \r\nL 753.885 -511.168857 \r\nL 730.077 -519.711143 \r\nL 706.269 -528.253429 \r\nL 682.461 -536.795714 \r\nL 658.653 -545.338 \r\nL 634.845 -553.880286 \r\nL 611.037 -556.158229 \r\nL 587.229 -558.436171 \r\nL 563.421 -560.714114 \r\nL 539.613 -562.992057 \r\nL 515.805 -565.27 \r\nL 491.997 -567.547943 \r\nL 468.189 -569.825886 \r\nL 444.381 -572.103829 \r\nL 420.573 -574.381771 \r\nL 396.765 -576.659714 \r\nL 372.957 -588.618914 \r\nL 349.149 -600.578114 \r\nL 325.341 -612.537314 \r\nL 301.533 -624.496514 \r\nL 277.725 -636.455714 \r\nL 253.917 -648.414914 \r\nL 230.109 -660.374114 \r\nL 206.301 -672.333314 \r\nL 182.493 -684.292514 \r\nL 158.685 -696.251714 \r\nL 134.877 -696.251714 \r\nL 111.069 -696.251714 \r\nL 87.261 -696.251714 \r\nL 63.453 -696.251714 \r\nL 39.645 -696.251714 \r\nz\r\n\" id=\"m95c2e8024c\" style=\"stroke:#894585;\"/>\r\n    </defs>\r\n    <g clip-path=\"url(#p8f1345cd55)\">\r\n     <use style=\"fill:#894585;stroke:#894585;\" x=\"0\" xlink:href=\"#m95c2e8024c\" y=\"731.926\"/>\r\n    </g>\r\n   </g>\r\n   <g id=\"PolyCollection_7\">\r\n    <defs>\r\n     <path d=\"M 39.645 -696.251714 \r\nL 39.645 -696.251714 \r\nL 63.453 -696.251714 \r\nL 87.261 -696.251714 \r\nL 111.069 -696.251714 \r\nL 134.877 -696.251714 \r\nL 158.685 -696.251714 \r\nL 182.493 -684.292514 \r\nL 206.301 -672.333314 \r\nL 230.109 -660.374114 \r\nL 253.917 -648.414914 \r\nL 277.725 -636.455714 \r\nL 301.533 -624.496514 \r\nL 325.341 -612.537314 \r\nL 349.149 -600.578114 \r\nL 372.957 -588.618914 \r\nL 396.765 -576.659714 \r\nL 420.573 -574.381771 \r\nL 444.381 -572.103829 \r\nL 468.189 -569.825886 \r\nL 491.997 -567.547943 \r\nL 515.805 -565.27 \r\nL 539.613 -562.992057 \r\nL 563.421 -560.714114 \r\nL 587.229 -558.436171 \r\nL 611.037 -556.158229 \r\nL 634.845 -553.880286 \r\nL 658.653 -545.338 \r\nL 682.461 -536.795714 \r\nL 706.269 -528.253429 \r\nL 730.077 -519.711143 \r\nL 753.885 -511.168857 \r\nL 777.693 -502.626571 \r\nL 801.501 -494.084286 \r\nL 825.309 -485.542 \r\nL 849.117 -476.999714 \r\nL 872.925 -468.457429 \r\nL 896.733 -468.457429 \r\nL 920.541 -468.457429 \r\nL 944.349 -468.457429 \r\nL 968.157 -468.457429 \r\nL 991.965 -468.457429 \r\nL 1015.773 -468.457429 \r\nL 1039.581 -468.457429 \r\nL 1063.389 -468.457429 \r\nL 1087.197 -468.457429 \r\nL 1111.005 -468.457429 \r\nL 1111.005 -696.251714 \r\nL 1111.005 -696.251714 \r\nL 1087.197 -696.251714 \r\nL 1063.389 -696.251714 \r\nL 1039.581 -696.251714 \r\nL 1015.773 -696.251714 \r\nL 991.965 -696.251714 \r\nL 968.157 -696.251714 \r\nL 944.349 -696.251714 \r\nL 920.541 -696.251714 \r\nL 896.733 -696.251714 \r\nL 872.925 -696.251714 \r\nL 849.117 -696.251714 \r\nL 825.309 -696.251714 \r\nL 801.501 -696.251714 \r\nL 777.693 -696.251714 \r\nL 753.885 -696.251714 \r\nL 730.077 -696.251714 \r\nL 706.269 -696.251714 \r\nL 682.461 -696.251714 \r\nL 658.653 -696.251714 \r\nL 634.845 -696.251714 \r\nL 611.037 -696.251714 \r\nL 587.229 -696.251714 \r\nL 563.421 -696.251714 \r\nL 539.613 -696.251714 \r\nL 515.805 -696.251714 \r\nL 491.997 -696.251714 \r\nL 468.189 -696.251714 \r\nL 444.381 -696.251714 \r\nL 420.573 -696.251714 \r\nL 396.765 -696.251714 \r\nL 372.957 -696.251714 \r\nL 349.149 -696.251714 \r\nL 325.341 -696.251714 \r\nL 301.533 -696.251714 \r\nL 277.725 -696.251714 \r\nL 253.917 -696.251714 \r\nL 230.109 -696.251714 \r\nL 206.301 -696.251714 \r\nL 182.493 -696.251714 \r\nL 158.685 -696.251714 \r\nL 134.877 -696.251714 \r\nL 111.069 -696.251714 \r\nL 87.261 -696.251714 \r\nL 63.453 -696.251714 \r\nL 39.645 -696.251714 \r\nz\r\n\" id=\"mc97575ed63\" style=\"stroke:#f1da7a;\"/>\r\n    </defs>\r\n    <g clip-path=\"url(#p8f1345cd55)\">\r\n     <use style=\"fill:#f1da7a;stroke:#f1da7a;\" x=\"0\" xlink:href=\"#mc97575ed63\" y=\"731.926\"/>\r\n    </g>\r\n   </g>\r\n   <g id=\"PolyCollection_8\">\r\n    <defs>\r\n     <path d=\"M 39.645 -696.251714 \r\nL 39.645 -696.251714 \r\nL 63.453 -696.251714 \r\nL 87.261 -696.251714 \r\nL 111.069 -696.251714 \r\nL 134.877 -696.251714 \r\nL 158.685 -696.251714 \r\nL 182.493 -696.251714 \r\nL 206.301 -696.251714 \r\nL 230.109 -696.251714 \r\nL 253.917 -696.251714 \r\nL 277.725 -696.251714 \r\nL 301.533 -696.251714 \r\nL 325.341 -696.251714 \r\nL 349.149 -696.251714 \r\nL 372.957 -696.251714 \r\nL 396.765 -696.251714 \r\nL 420.573 -696.251714 \r\nL 444.381 -696.251714 \r\nL 468.189 -696.251714 \r\nL 491.997 -696.251714 \r\nL 515.805 -696.251714 \r\nL 539.613 -696.251714 \r\nL 563.421 -696.251714 \r\nL 587.229 -696.251714 \r\nL 611.037 -696.251714 \r\nL 634.845 -696.251714 \r\nL 658.653 -696.251714 \r\nL 682.461 -696.251714 \r\nL 706.269 -696.251714 \r\nL 730.077 -696.251714 \r\nL 753.885 -696.251714 \r\nL 777.693 -696.251714 \r\nL 801.501 -696.251714 \r\nL 825.309 -696.251714 \r\nL 849.117 -696.251714 \r\nL 872.925 -696.251714 \r\nL 896.733 -696.251714 \r\nL 920.541 -696.251714 \r\nL 944.349 -696.251714 \r\nL 968.157 -696.251714 \r\nL 991.965 -696.251714 \r\nL 1015.773 -696.251714 \r\nL 1039.581 -696.251714 \r\nL 1063.389 -696.251714 \r\nL 1087.197 -696.251714 \r\nL 1111.005 -696.251714 \r\nL 1111.005 -696.251714 \r\nL 1111.005 -696.251714 \r\nL 1087.197 -696.251714 \r\nL 1063.389 -696.251714 \r\nL 1039.581 -696.251714 \r\nL 1015.773 -696.251714 \r\nL 991.965 -696.251714 \r\nL 968.157 -696.251714 \r\nL 944.349 -696.251714 \r\nL 920.541 -696.251714 \r\nL 896.733 -696.251714 \r\nL 872.925 -696.251714 \r\nL 849.117 -696.251714 \r\nL 825.309 -696.251714 \r\nL 801.501 -696.251714 \r\nL 777.693 -696.251714 \r\nL 753.885 -696.251714 \r\nL 730.077 -696.251714 \r\nL 706.269 -696.251714 \r\nL 682.461 -696.251714 \r\nL 658.653 -696.251714 \r\nL 634.845 -696.251714 \r\nL 611.037 -696.251714 \r\nL 587.229 -696.251714 \r\nL 563.421 -696.251714 \r\nL 539.613 -696.251714 \r\nL 515.805 -696.251714 \r\nL 491.997 -696.251714 \r\nL 468.189 -696.251714 \r\nL 444.381 -696.251714 \r\nL 420.573 -696.251714 \r\nL 396.765 -696.251714 \r\nL 372.957 -696.251714 \r\nL 349.149 -696.251714 \r\nL 325.341 -696.251714 \r\nL 301.533 -696.251714 \r\nL 277.725 -696.251714 \r\nL 253.917 -696.251714 \r\nL 230.109 -696.251714 \r\nL 206.301 -696.251714 \r\nL 182.493 -696.251714 \r\nL 158.685 -696.251714 \r\nL 134.877 -696.251714 \r\nL 111.069 -696.251714 \r\nL 87.261 -696.251714 \r\nL 63.453 -696.251714 \r\nL 39.645 -696.251714 \r\nz\r\n\" id=\"mc69fa7d2a2\" style=\"stroke:#610023;\"/>\r\n    </defs>\r\n    <g clip-path=\"url(#p8f1345cd55)\">\r\n     <use style=\"fill:#610023;stroke:#610023;\" x=\"0\" xlink:href=\"#mc69fa7d2a2\" y=\"731.926\"/>\r\n    </g>\r\n   </g>\r\n   <g id=\"matplotlib.axis_1\">\r\n    <g id=\"xtick_1\">\r\n     <g id=\"line2d_1\">\r\n      <defs>\r\n       <path d=\"M 0 0 \r\nL 0 3.5 \r\n\" id=\"m654a35fc2f\" style=\"stroke:#000000;stroke-width:0.8;\"/>\r\n      </defs>\r\n      <g>\r\n       <use style=\"stroke:#000000;stroke-width:0.8;\" x=\"39.645\" xlink:href=\"#m654a35fc2f\" y=\"605.16\"/>\r\n      </g>\r\n     </g>\r\n     <g id=\"text_1\">\r\n      <!-- 2015 -->\r\n      <defs>\r\n       <path d=\"M 19.1875 8.296875 \r\nL 53.609375 8.296875 \r\nL 53.609375 0 \r\nL 7.328125 0 \r\nL 7.328125 8.296875 \r\nQ 12.9375 14.109375 22.625 23.890625 \r\nQ 32.328125 33.6875 34.8125 36.53125 \r\nQ 39.546875 41.84375 41.421875 45.53125 \r\nQ 43.3125 49.21875 43.3125 52.78125 \r\nQ 43.3125 58.59375 39.234375 62.25 \r\nQ 35.15625 65.921875 28.609375 65.921875 \r\nQ 23.96875 65.921875 18.8125 64.3125 \r\nQ 13.671875 62.703125 7.8125 59.421875 \r\nL 7.8125 69.390625 \r\nQ 13.765625 71.78125 18.9375 73 \r\nQ 24.125 74.21875 28.421875 74.21875 \r\nQ 39.75 74.21875 46.484375 68.546875 \r\nQ 53.21875 62.890625 53.21875 53.421875 \r\nQ 53.21875 48.921875 51.53125 44.890625 \r\nQ 49.859375 40.875 45.40625 35.40625 \r\nQ 44.1875 33.984375 37.640625 27.21875 \r\nQ 31.109375 20.453125 19.1875 8.296875 \r\nz\r\n\" id=\"DejaVuSans-50\"/>\r\n       <path d=\"M 31.78125 66.40625 \r\nQ 24.171875 66.40625 20.328125 58.90625 \r\nQ 16.5 51.421875 16.5 36.375 \r\nQ 16.5 21.390625 20.328125 13.890625 \r\nQ 24.171875 6.390625 31.78125 6.390625 \r\nQ 39.453125 6.390625 43.28125 13.890625 \r\nQ 47.125 21.390625 47.125 36.375 \r\nQ 47.125 51.421875 43.28125 58.90625 \r\nQ 39.453125 66.40625 31.78125 66.40625 \r\nz\r\nM 31.78125 74.21875 \r\nQ 44.046875 74.21875 50.515625 64.515625 \r\nQ 56.984375 54.828125 56.984375 36.375 \r\nQ 56.984375 17.96875 50.515625 8.265625 \r\nQ 44.046875 -1.421875 31.78125 -1.421875 \r\nQ 19.53125 -1.421875 13.0625 8.265625 \r\nQ 6.59375 17.96875 6.59375 36.375 \r\nQ 6.59375 54.828125 13.0625 64.515625 \r\nQ 19.53125 74.21875 31.78125 74.21875 \r\nz\r\n\" id=\"DejaVuSans-48\"/>\r\n       <path d=\"M 12.40625 8.296875 \r\nL 28.515625 8.296875 \r\nL 28.515625 63.921875 \r\nL 10.984375 60.40625 \r\nL 10.984375 69.390625 \r\nL 28.421875 72.90625 \r\nL 38.28125 72.90625 \r\nL 38.28125 8.296875 \r\nL 54.390625 8.296875 \r\nL 54.390625 0 \r\nL 12.40625 0 \r\nz\r\n\" id=\"DejaVuSans-49\"/>\r\n       <path d=\"M 10.796875 72.90625 \r\nL 49.515625 72.90625 \r\nL 49.515625 64.59375 \r\nL 19.828125 64.59375 \r\nL 19.828125 46.734375 \r\nQ 21.96875 47.46875 24.109375 47.828125 \r\nQ 26.265625 48.1875 28.421875 48.1875 \r\nQ 40.625 48.1875 47.75 41.5 \r\nQ 54.890625 34.8125 54.890625 23.390625 \r\nQ 54.890625 11.625 47.5625 5.09375 \r\nQ 40.234375 -1.421875 26.90625 -1.421875 \r\nQ 22.3125 -1.421875 17.546875 -0.640625 \r\nQ 12.796875 0.140625 7.71875 1.703125 \r\nL 7.71875 11.625 \r\nQ 12.109375 9.234375 16.796875 8.0625 \r\nQ 21.484375 6.890625 26.703125 6.890625 \r\nQ 35.15625 6.890625 40.078125 11.328125 \r\nQ 45.015625 15.765625 45.015625 23.390625 \r\nQ 45.015625 31 40.078125 35.4375 \r\nQ 35.15625 39.890625 26.703125 39.890625 \r\nQ 22.75 39.890625 18.8125 39.015625 \r\nQ 14.890625 38.140625 10.796875 36.28125 \r\nz\r\n\" id=\"DejaVuSans-53\"/>\r\n      </defs>\r\n      <g transform=\"translate(19.285 624.3175)scale(0.16 -0.16)\">\r\n       <use xlink:href=\"#DejaVuSans-50\"/>\r\n       <use x=\"63.623047\" xlink:href=\"#DejaVuSans-48\"/>\r\n       <use x=\"127.246094\" xlink:href=\"#DejaVuSans-49\"/>\r\n       <use x=\"190.869141\" xlink:href=\"#DejaVuSans-53\"/>\r\n      </g>\r\n     </g>\r\n    </g>\r\n    <g id=\"xtick_2\">\r\n     <g id=\"line2d_2\">\r\n      <g>\r\n       <use style=\"stroke:#000000;stroke-width:0.8;\" x=\"158.685\" xlink:href=\"#m654a35fc2f\" y=\"605.16\"/>\r\n      </g>\r\n     </g>\r\n     <g id=\"text_2\">\r\n      <!-- 2020 -->\r\n      <g transform=\"translate(138.325 624.3175)scale(0.16 -0.16)\">\r\n       <use xlink:href=\"#DejaVuSans-50\"/>\r\n       <use x=\"63.623047\" xlink:href=\"#DejaVuSans-48\"/>\r\n       <use x=\"127.246094\" xlink:href=\"#DejaVuSans-50\"/>\r\n       <use x=\"190.869141\" xlink:href=\"#DejaVuSans-48\"/>\r\n      </g>\r\n     </g>\r\n    </g>\r\n    <g id=\"xtick_3\">\r\n     <g id=\"line2d_3\">\r\n      <g>\r\n       <use style=\"stroke:#000000;stroke-width:0.8;\" x=\"277.725\" xlink:href=\"#m654a35fc2f\" y=\"605.16\"/>\r\n      </g>\r\n     </g>\r\n     <g id=\"text_3\">\r\n      <!-- 2025 -->\r\n      <g transform=\"translate(257.365 624.3175)scale(0.16 -0.16)\">\r\n       <use xlink:href=\"#DejaVuSans-50\"/>\r\n       <use x=\"63.623047\" xlink:href=\"#DejaVuSans-48\"/>\r\n       <use x=\"127.246094\" xlink:href=\"#DejaVuSans-50\"/>\r\n       <use x=\"190.869141\" xlink:href=\"#DejaVuSans-53\"/>\r\n      </g>\r\n     </g>\r\n    </g>\r\n    <g id=\"xtick_4\">\r\n     <g id=\"line2d_4\">\r\n      <g>\r\n       <use style=\"stroke:#000000;stroke-width:0.8;\" x=\"396.765\" xlink:href=\"#m654a35fc2f\" y=\"605.16\"/>\r\n      </g>\r\n     </g>\r\n     <g id=\"text_4\">\r\n      <!-- 2030 -->\r\n      <defs>\r\n       <path d=\"M 40.578125 39.3125 \r\nQ 47.65625 37.796875 51.625 33 \r\nQ 55.609375 28.21875 55.609375 21.1875 \r\nQ 55.609375 10.40625 48.1875 4.484375 \r\nQ 40.765625 -1.421875 27.09375 -1.421875 \r\nQ 22.515625 -1.421875 17.65625 -0.515625 \r\nQ 12.796875 0.390625 7.625 2.203125 \r\nL 7.625 11.71875 \r\nQ 11.71875 9.328125 16.59375 8.109375 \r\nQ 21.484375 6.890625 26.8125 6.890625 \r\nQ 36.078125 6.890625 40.9375 10.546875 \r\nQ 45.796875 14.203125 45.796875 21.1875 \r\nQ 45.796875 27.640625 41.28125 31.265625 \r\nQ 36.765625 34.90625 28.71875 34.90625 \r\nL 20.21875 34.90625 \r\nL 20.21875 43.015625 \r\nL 29.109375 43.015625 \r\nQ 36.375 43.015625 40.234375 45.921875 \r\nQ 44.09375 48.828125 44.09375 54.296875 \r\nQ 44.09375 59.90625 40.109375 62.90625 \r\nQ 36.140625 65.921875 28.71875 65.921875 \r\nQ 24.65625 65.921875 20.015625 65.03125 \r\nQ 15.375 64.15625 9.8125 62.3125 \r\nL 9.8125 71.09375 \r\nQ 15.4375 72.65625 20.34375 73.4375 \r\nQ 25.25 74.21875 29.59375 74.21875 \r\nQ 40.828125 74.21875 47.359375 69.109375 \r\nQ 53.90625 64.015625 53.90625 55.328125 \r\nQ 53.90625 49.265625 50.4375 45.09375 \r\nQ 46.96875 40.921875 40.578125 39.3125 \r\nz\r\n\" id=\"DejaVuSans-51\"/>\r\n      </defs>\r\n      <g transform=\"translate(376.405 624.3175)scale(0.16 -0.16)\">\r\n       <use xlink:href=\"#DejaVuSans-50\"/>\r\n       <use x=\"63.623047\" xlink:href=\"#DejaVuSans-48\"/>\r\n       <use x=\"127.246094\" xlink:href=\"#DejaVuSans-51\"/>\r\n       <use x=\"190.869141\" xlink:href=\"#DejaVuSans-48\"/>\r\n      </g>\r\n     </g>\r\n    </g>\r\n    <g id=\"xtick_5\">\r\n     <g id=\"line2d_5\">\r\n      <g>\r\n       <use style=\"stroke:#000000;stroke-width:0.8;\" x=\"515.805\" xlink:href=\"#m654a35fc2f\" y=\"605.16\"/>\r\n      </g>\r\n     </g>\r\n     <g id=\"text_5\">\r\n      <!-- 2035 -->\r\n      <g transform=\"translate(495.445 624.3175)scale(0.16 -0.16)\">\r\n       <use xlink:href=\"#DejaVuSans-50\"/>\r\n       <use x=\"63.623047\" xlink:href=\"#DejaVuSans-48\"/>\r\n       <use x=\"127.246094\" xlink:href=\"#DejaVuSans-51\"/>\r\n       <use x=\"190.869141\" xlink:href=\"#DejaVuSans-53\"/>\r\n      </g>\r\n     </g>\r\n    </g>\r\n    <g id=\"xtick_6\">\r\n     <g id=\"line2d_6\">\r\n      <g>\r\n       <use style=\"stroke:#000000;stroke-width:0.8;\" x=\"634.845\" xlink:href=\"#m654a35fc2f\" y=\"605.16\"/>\r\n      </g>\r\n     </g>\r\n     <g id=\"text_6\">\r\n      <!-- 2040 -->\r\n      <defs>\r\n       <path d=\"M 37.796875 64.3125 \r\nL 12.890625 25.390625 \r\nL 37.796875 25.390625 \r\nz\r\nM 35.203125 72.90625 \r\nL 47.609375 72.90625 \r\nL 47.609375 25.390625 \r\nL 58.015625 25.390625 \r\nL 58.015625 17.1875 \r\nL 47.609375 17.1875 \r\nL 47.609375 0 \r\nL 37.796875 0 \r\nL 37.796875 17.1875 \r\nL 4.890625 17.1875 \r\nL 4.890625 26.703125 \r\nz\r\n\" id=\"DejaVuSans-52\"/>\r\n      </defs>\r\n      <g transform=\"translate(614.485 624.3175)scale(0.16 -0.16)\">\r\n       <use xlink:href=\"#DejaVuSans-50\"/>\r\n       <use x=\"63.623047\" xlink:href=\"#DejaVuSans-48\"/>\r\n       <use x=\"127.246094\" xlink:href=\"#DejaVuSans-52\"/>\r\n       <use x=\"190.869141\" xlink:href=\"#DejaVuSans-48\"/>\r\n      </g>\r\n     </g>\r\n    </g>\r\n    <g id=\"xtick_7\">\r\n     <g id=\"line2d_7\">\r\n      <g>\r\n       <use style=\"stroke:#000000;stroke-width:0.8;\" x=\"753.885\" xlink:href=\"#m654a35fc2f\" y=\"605.16\"/>\r\n      </g>\r\n     </g>\r\n     <g id=\"text_7\">\r\n      <!-- 2045 -->\r\n      <g transform=\"translate(733.525 624.3175)scale(0.16 -0.16)\">\r\n       <use xlink:href=\"#DejaVuSans-50\"/>\r\n       <use x=\"63.623047\" xlink:href=\"#DejaVuSans-48\"/>\r\n       <use x=\"127.246094\" xlink:href=\"#DejaVuSans-52\"/>\r\n       <use x=\"190.869141\" xlink:href=\"#DejaVuSans-53\"/>\r\n      </g>\r\n     </g>\r\n    </g>\r\n    <g id=\"xtick_8\">\r\n     <g id=\"line2d_8\">\r\n      <g>\r\n       <use style=\"stroke:#000000;stroke-width:0.8;\" x=\"872.925\" xlink:href=\"#m654a35fc2f\" y=\"605.16\"/>\r\n      </g>\r\n     </g>\r\n     <g id=\"text_8\">\r\n      <!-- 2050 -->\r\n      <g transform=\"translate(852.565 624.3175)scale(0.16 -0.16)\">\r\n       <use xlink:href=\"#DejaVuSans-50\"/>\r\n       <use x=\"63.623047\" xlink:href=\"#DejaVuSans-48\"/>\r\n       <use x=\"127.246094\" xlink:href=\"#DejaVuSans-53\"/>\r\n       <use x=\"190.869141\" xlink:href=\"#DejaVuSans-48\"/>\r\n      </g>\r\n     </g>\r\n    </g>\r\n    <g id=\"xtick_9\">\r\n     <g id=\"line2d_9\">\r\n      <g>\r\n       <use style=\"stroke:#000000;stroke-width:0.8;\" x=\"991.965\" xlink:href=\"#m654a35fc2f\" y=\"605.16\"/>\r\n      </g>\r\n     </g>\r\n     <g id=\"text_9\">\r\n      <!-- 2055 -->\r\n      <g transform=\"translate(971.605 624.3175)scale(0.16 -0.16)\">\r\n       <use xlink:href=\"#DejaVuSans-50\"/>\r\n       <use x=\"63.623047\" xlink:href=\"#DejaVuSans-48\"/>\r\n       <use x=\"127.246094\" xlink:href=\"#DejaVuSans-53\"/>\r\n       <use x=\"190.869141\" xlink:href=\"#DejaVuSans-53\"/>\r\n      </g>\r\n     </g>\r\n    </g>\r\n    <g id=\"xtick_10\">\r\n     <g id=\"line2d_10\">\r\n      <g>\r\n       <use style=\"stroke:#000000;stroke-width:0.8;\" x=\"1111.005\" xlink:href=\"#m654a35fc2f\" y=\"605.16\"/>\r\n      </g>\r\n     </g>\r\n     <g id=\"text_10\">\r\n      <!-- 2060 -->\r\n      <defs>\r\n       <path d=\"M 33.015625 40.375 \r\nQ 26.375 40.375 22.484375 35.828125 \r\nQ 18.609375 31.296875 18.609375 23.390625 \r\nQ 18.609375 15.53125 22.484375 10.953125 \r\nQ 26.375 6.390625 33.015625 6.390625 \r\nQ 39.65625 6.390625 43.53125 10.953125 \r\nQ 47.40625 15.53125 47.40625 23.390625 \r\nQ 47.40625 31.296875 43.53125 35.828125 \r\nQ 39.65625 40.375 33.015625 40.375 \r\nz\r\nM 52.59375 71.296875 \r\nL 52.59375 62.3125 \r\nQ 48.875 64.0625 45.09375 64.984375 \r\nQ 41.3125 65.921875 37.59375 65.921875 \r\nQ 27.828125 65.921875 22.671875 59.328125 \r\nQ 17.53125 52.734375 16.796875 39.40625 \r\nQ 19.671875 43.65625 24.015625 45.921875 \r\nQ 28.375 48.1875 33.59375 48.1875 \r\nQ 44.578125 48.1875 50.953125 41.515625 \r\nQ 57.328125 34.859375 57.328125 23.390625 \r\nQ 57.328125 12.15625 50.6875 5.359375 \r\nQ 44.046875 -1.421875 33.015625 -1.421875 \r\nQ 20.359375 -1.421875 13.671875 8.265625 \r\nQ 6.984375 17.96875 6.984375 36.375 \r\nQ 6.984375 53.65625 15.1875 63.9375 \r\nQ 23.390625 74.21875 37.203125 74.21875 \r\nQ 40.921875 74.21875 44.703125 73.484375 \r\nQ 48.484375 72.75 52.59375 71.296875 \r\nz\r\n\" id=\"DejaVuSans-54\"/>\r\n      </defs>\r\n      <g transform=\"translate(1090.645 624.3175)scale(0.16 -0.16)\">\r\n       <use xlink:href=\"#DejaVuSans-50\"/>\r\n       <use x=\"63.623047\" xlink:href=\"#DejaVuSans-48\"/>\r\n       <use x=\"127.246094\" xlink:href=\"#DejaVuSans-54\"/>\r\n       <use x=\"190.869141\" xlink:href=\"#DejaVuSans-48\"/>\r\n      </g>\r\n     </g>\r\n    </g>\r\n   </g>\r\n   <g id=\"matplotlib.axis_2\">\r\n    <g id=\"ytick_1\">\r\n     <g id=\"line2d_11\">\r\n      <defs>\r\n       <path d=\"M 0 0 \r\nL -3.5 0 \r\n\" id=\"md80322dfd2\" style=\"stroke:#000000;stroke-width:0.8;\"/>\r\n      </defs>\r\n      <g>\r\n       <use style=\"stroke:#000000;stroke-width:0.8;\" x=\"39.645\" xlink:href=\"#md80322dfd2\" y=\"605.16\"/>\r\n      </g>\r\n     </g>\r\n     <g id=\"text_11\">\r\n      <!-- 0.0 -->\r\n      <defs>\r\n       <path d=\"M 10.6875 12.40625 \r\nL 21 12.40625 \r\nL 21 0 \r\nL 10.6875 0 \r\nz\r\n\" id=\"DejaVuSans-46\"/>\r\n      </defs>\r\n      <g transform=\"translate(7.2 611.23875)scale(0.16 -0.16)\">\r\n       <use xlink:href=\"#DejaVuSans-48\"/>\r\n       <use x=\"63.623047\" xlink:href=\"#DejaVuSans-46\"/>\r\n       <use x=\"95.410156\" xlink:href=\"#DejaVuSans-48\"/>\r\n      </g>\r\n     </g>\r\n    </g>\r\n    <g id=\"ytick_2\">\r\n     <g id=\"line2d_12\">\r\n      <g>\r\n       <use style=\"stroke:#000000;stroke-width:0.8;\" x=\"39.645\" xlink:href=\"#md80322dfd2\" y=\"491.262857\"/>\r\n      </g>\r\n     </g>\r\n     <g id=\"text_12\">\r\n      <!-- 0.2 -->\r\n      <g transform=\"translate(7.2 497.341607)scale(0.16 -0.16)\">\r\n       <use xlink:href=\"#DejaVuSans-48\"/>\r\n       <use x=\"63.623047\" xlink:href=\"#DejaVuSans-46\"/>\r\n       <use x=\"95.410156\" xlink:href=\"#DejaVuSans-50\"/>\r\n      </g>\r\n     </g>\r\n    </g>\r\n    <g id=\"ytick_3\">\r\n     <g id=\"line2d_13\">\r\n      <g>\r\n       <use style=\"stroke:#000000;stroke-width:0.8;\" x=\"39.645\" xlink:href=\"#md80322dfd2\" y=\"377.365714\"/>\r\n      </g>\r\n     </g>\r\n     <g id=\"text_13\">\r\n      <!-- 0.4 -->\r\n      <g transform=\"translate(7.2 383.444464)scale(0.16 -0.16)\">\r\n       <use xlink:href=\"#DejaVuSans-48\"/>\r\n       <use x=\"63.623047\" xlink:href=\"#DejaVuSans-46\"/>\r\n       <use x=\"95.410156\" xlink:href=\"#DejaVuSans-52\"/>\r\n      </g>\r\n     </g>\r\n    </g>\r\n    <g id=\"ytick_4\">\r\n     <g id=\"line2d_14\">\r\n      <g>\r\n       <use style=\"stroke:#000000;stroke-width:0.8;\" x=\"39.645\" xlink:href=\"#md80322dfd2\" y=\"263.468571\"/>\r\n      </g>\r\n     </g>\r\n     <g id=\"text_14\">\r\n      <!-- 0.6 -->\r\n      <g transform=\"translate(7.2 269.547321)scale(0.16 -0.16)\">\r\n       <use xlink:href=\"#DejaVuSans-48\"/>\r\n       <use x=\"63.623047\" xlink:href=\"#DejaVuSans-46\"/>\r\n       <use x=\"95.410156\" xlink:href=\"#DejaVuSans-54\"/>\r\n      </g>\r\n     </g>\r\n    </g>\r\n    <g id=\"ytick_5\">\r\n     <g id=\"line2d_15\">\r\n      <g>\r\n       <use style=\"stroke:#000000;stroke-width:0.8;\" x=\"39.645\" xlink:href=\"#md80322dfd2\" y=\"149.571429\"/>\r\n      </g>\r\n     </g>\r\n     <g id=\"text_15\">\r\n      <!-- 0.8 -->\r\n      <defs>\r\n       <path d=\"M 31.78125 34.625 \r\nQ 24.75 34.625 20.71875 30.859375 \r\nQ 16.703125 27.09375 16.703125 20.515625 \r\nQ 16.703125 13.921875 20.71875 10.15625 \r\nQ 24.75 6.390625 31.78125 6.390625 \r\nQ 38.8125 6.390625 42.859375 10.171875 \r\nQ 46.921875 13.96875 46.921875 20.515625 \r\nQ 46.921875 27.09375 42.890625 30.859375 \r\nQ 38.875 34.625 31.78125 34.625 \r\nz\r\nM 21.921875 38.8125 \r\nQ 15.578125 40.375 12.03125 44.71875 \r\nQ 8.5 49.078125 8.5 55.328125 \r\nQ 8.5 64.0625 14.71875 69.140625 \r\nQ 20.953125 74.21875 31.78125 74.21875 \r\nQ 42.671875 74.21875 48.875 69.140625 \r\nQ 55.078125 64.0625 55.078125 55.328125 \r\nQ 55.078125 49.078125 51.53125 44.71875 \r\nQ 48 40.375 41.703125 38.8125 \r\nQ 48.828125 37.15625 52.796875 32.3125 \r\nQ 56.78125 27.484375 56.78125 20.515625 \r\nQ 56.78125 9.90625 50.3125 4.234375 \r\nQ 43.84375 -1.421875 31.78125 -1.421875 \r\nQ 19.734375 -1.421875 13.25 4.234375 \r\nQ 6.78125 9.90625 6.78125 20.515625 \r\nQ 6.78125 27.484375 10.78125 32.3125 \r\nQ 14.796875 37.15625 21.921875 38.8125 \r\nz\r\nM 18.3125 54.390625 \r\nQ 18.3125 48.734375 21.84375 45.5625 \r\nQ 25.390625 42.390625 31.78125 42.390625 \r\nQ 38.140625 42.390625 41.71875 45.5625 \r\nQ 45.3125 48.734375 45.3125 54.390625 \r\nQ 45.3125 60.0625 41.71875 63.234375 \r\nQ 38.140625 66.40625 31.78125 66.40625 \r\nQ 25.390625 66.40625 21.84375 63.234375 \r\nQ 18.3125 60.0625 18.3125 54.390625 \r\nz\r\n\" id=\"DejaVuSans-56\"/>\r\n      </defs>\r\n      <g transform=\"translate(7.2 155.650179)scale(0.16 -0.16)\">\r\n       <use xlink:href=\"#DejaVuSans-48\"/>\r\n       <use x=\"63.623047\" xlink:href=\"#DejaVuSans-46\"/>\r\n       <use x=\"95.410156\" xlink:href=\"#DejaVuSans-56\"/>\r\n      </g>\r\n     </g>\r\n    </g>\r\n    <g id=\"ytick_6\">\r\n     <g id=\"line2d_16\">\r\n      <g>\r\n       <use style=\"stroke:#000000;stroke-width:0.8;\" x=\"39.645\" xlink:href=\"#md80322dfd2\" y=\"35.674286\"/>\r\n      </g>\r\n     </g>\r\n     <g id=\"text_16\">\r\n      <!-- 1.0 -->\r\n      <g transform=\"translate(7.2 41.753036)scale(0.16 -0.16)\">\r\n       <use xlink:href=\"#DejaVuSans-49\"/>\r\n       <use x=\"63.623047\" xlink:href=\"#DejaVuSans-46\"/>\r\n       <use x=\"95.410156\" xlink:href=\"#DejaVuSans-48\"/>\r\n      </g>\r\n     </g>\r\n    </g>\r\n   </g>\r\n   <g id=\"line2d_17\">\r\n    <path clip-path=\"url(#p8f1345cd55)\" d=\"M 39.645 519.737143 \r\nL 63.453 519.737143 \r\nL 87.261 519.737143 \r\nL 111.069 519.737143 \r\nL 134.877 519.737143 \r\nL 158.685 519.737143 \r\nL 182.493 520.876114 \r\nL 206.301 522.015086 \r\nL 230.109 523.154057 \r\nL 253.917 524.293029 \r\nL 277.725 525.432 \r\nL 301.533 526.570971 \r\nL 325.341 527.709943 \r\nL 349.149 528.848914 \r\nL 372.957 529.987886 \r\nL 396.765 531.126857 \r\nL 420.573 534.543771 \r\nL 444.381 537.960686 \r\nL 468.189 541.3776 \r\nL 491.997 544.794514 \r\nL 515.805 548.211429 \r\nL 539.613 551.628343 \r\nL 563.421 555.045257 \r\nL 587.229 558.462171 \r\nL 611.037 561.879086 \r\nL 634.845 565.296 \r\nL 658.653 565.296 \r\nL 682.461 565.296 \r\nL 706.269 565.296 \r\nL 730.077 565.296 \r\nL 753.885 565.296 \r\nL 777.693 565.296 \r\nL 801.501 565.296 \r\nL 825.309 565.296 \r\nL 849.117 565.296 \r\nL 872.925 565.296 \r\nL 896.733 565.296 \r\nL 920.541 565.296 \r\nL 944.349 565.296 \r\nL 968.157 565.296 \r\nL 991.965 565.296 \r\nL 1015.773 565.296 \r\nL 1039.581 565.296 \r\nL 1063.389 565.296 \r\nL 1087.197 565.296 \r\nL 1111.005 565.296 \r\n\" style=\"fill:none;stroke:#a8a8a8;stroke-linecap:square;stroke-width:1.5;\"/>\r\n   </g>\r\n   <g id=\"line2d_18\">\r\n    <path clip-path=\"url(#p8f1345cd55)\" d=\"M 39.645 348.891429 \r\nL 63.453 369.392914 \r\nL 87.261 389.8944 \r\nL 111.069 410.395886 \r\nL 134.877 430.897371 \r\nL 158.685 451.398857 \r\nL 182.493 458.232686 \r\nL 206.301 465.066514 \r\nL 230.109 471.900343 \r\nL 253.917 478.734171 \r\nL 277.725 485.568 \r\nL 301.533 492.401829 \r\nL 325.341 499.235657 \r\nL 349.149 506.069486 \r\nL 372.957 512.903314 \r\nL 396.765 519.737143 \r\nL 420.573 524.293029 \r\nL 444.381 528.848914 \r\nL 468.189 533.4048 \r\nL 491.997 537.960686 \r\nL 515.805 542.516571 \r\nL 539.613 547.072457 \r\nL 563.421 551.628343 \r\nL 587.229 556.184229 \r\nL 611.037 560.740114 \r\nL 634.845 565.296 \r\nL 658.653 565.296 \r\nL 682.461 565.296 \r\nL 706.269 565.296 \r\nL 730.077 565.296 \r\nL 753.885 565.296 \r\nL 777.693 565.296 \r\nL 801.501 565.296 \r\nL 825.309 565.296 \r\nL 849.117 565.296 \r\nL 872.925 565.296 \r\nL 896.733 565.296 \r\nL 920.541 565.296 \r\nL 944.349 565.296 \r\nL 968.157 565.296 \r\nL 991.965 565.296 \r\nL 1015.773 565.296 \r\nL 1039.581 565.296 \r\nL 1063.389 565.296 \r\nL 1087.197 565.296 \r\nL 1111.005 565.296 \r\n\" style=\"fill:none;stroke:#49759c;stroke-linecap:square;stroke-width:1.5;\"/>\r\n   </g>\r\n   <g id=\"line2d_19\">\r\n    <path clip-path=\"url(#p8f1345cd55)\" d=\"M 39.645 291.942857 \r\nL 63.453 297.637714 \r\nL 87.261 303.332571 \r\nL 111.069 309.027429 \r\nL 134.877 314.722286 \r\nL 158.685 320.417143 \r\nL 182.493 324.973029 \r\nL 206.301 329.528914 \r\nL 230.109 334.0848 \r\nL 253.917 338.640686 \r\nL 277.725 343.196571 \r\nL 301.533 347.752457 \r\nL 325.341 352.308343 \r\nL 349.149 356.864229 \r\nL 372.957 361.420114 \r\nL 396.765 365.976 \r\nL 420.573 376.796229 \r\nL 444.381 387.616457 \r\nL 468.189 398.436686 \r\nL 491.997 409.256914 \r\nL 515.805 420.077143 \r\nL 539.613 430.897371 \r\nL 563.421 441.7176 \r\nL 587.229 452.537829 \r\nL 611.037 463.358057 \r\nL 634.845 474.178286 \r\nL 658.653 474.178286 \r\nL 682.461 474.178286 \r\nL 706.269 474.178286 \r\nL 730.077 474.178286 \r\nL 753.885 474.178286 \r\nL 777.693 474.178286 \r\nL 801.501 474.178286 \r\nL 825.309 474.178286 \r\nL 849.117 474.178286 \r\nL 872.925 474.178286 \r\nL 896.733 474.178286 \r\nL 920.541 474.178286 \r\nL 944.349 474.178286 \r\nL 968.157 474.178286 \r\nL 991.965 474.178286 \r\nL 1015.773 474.178286 \r\nL 1039.581 474.178286 \r\nL 1063.389 474.178286 \r\nL 1087.197 474.178286 \r\nL 1111.005 474.178286 \r\n\" style=\"fill:none;stroke:#77ab56;stroke-linecap:square;stroke-width:1.5;\"/>\r\n   </g>\r\n   <g id=\"line2d_20\">\r\n    <path clip-path=\"url(#p8f1345cd55)\" d=\"M 39.645 291.942857 \r\nL 63.453 286.248 \r\nL 87.261 280.553143 \r\nL 111.069 274.858286 \r\nL 134.877 269.163429 \r\nL 158.685 263.468571 \r\nL 182.493 258.3432 \r\nL 206.301 253.217829 \r\nL 230.109 248.092457 \r\nL 253.917 242.967086 \r\nL 277.725 237.841714 \r\nL 301.533 232.716343 \r\nL 325.341 227.590971 \r\nL 349.149 222.4656 \r\nL 372.957 217.340229 \r\nL 396.765 212.214857 \r\nL 420.573 212.784343 \r\nL 444.381 213.353829 \r\nL 468.189 213.923314 \r\nL 491.997 214.4928 \r\nL 515.805 215.062286 \r\nL 539.613 215.631771 \r\nL 563.421 216.201257 \r\nL 587.229 216.770743 \r\nL 611.037 217.340229 \r\nL 634.845 217.909714 \r\nL 658.653 226.452 \r\nL 682.461 234.994286 \r\nL 706.269 243.536571 \r\nL 730.077 252.078857 \r\nL 753.885 260.621143 \r\nL 777.693 269.163429 \r\nL 801.501 277.705714 \r\nL 825.309 286.248 \r\nL 849.117 294.790286 \r\nL 872.925 303.332571 \r\nL 896.733 303.332571 \r\nL 920.541 303.332571 \r\nL 944.349 303.332571 \r\nL 968.157 303.332571 \r\nL 991.965 303.332571 \r\nL 1015.773 303.332571 \r\nL 1039.581 303.332571 \r\nL 1063.389 303.332571 \r\nL 1087.197 303.332571 \r\nL 1111.005 303.332571 \r\n\" style=\"fill:none;stroke:#fdaa48;stroke-linecap:square;stroke-width:1.5;\"/>\r\n   </g>\r\n   <g id=\"line2d_21\">\r\n    <path clip-path=\"url(#p8f1345cd55)\" d=\"M 39.645 172.350857 \r\nL 63.453 167.794971 \r\nL 87.261 163.239086 \r\nL 111.069 158.6832 \r\nL 134.877 154.127314 \r\nL 158.685 149.571429 \r\nL 182.493 150.140914 \r\nL 206.301 150.7104 \r\nL 230.109 151.279886 \r\nL 253.917 151.849371 \r\nL 277.725 152.418857 \r\nL 301.533 152.988343 \r\nL 325.341 153.557829 \r\nL 349.149 154.127314 \r\nL 372.957 154.6968 \r\nL 396.765 155.266286 \r\nL 420.573 157.544229 \r\nL 444.381 159.822171 \r\nL 468.189 162.100114 \r\nL 491.997 164.378057 \r\nL 515.805 166.656 \r\nL 539.613 168.933943 \r\nL 563.421 171.211886 \r\nL 587.229 173.489829 \r\nL 611.037 175.767771 \r\nL 634.845 178.045714 \r\nL 658.653 186.588 \r\nL 682.461 195.130286 \r\nL 706.269 203.672571 \r\nL 730.077 212.214857 \r\nL 753.885 220.757143 \r\nL 777.693 229.299429 \r\nL 801.501 237.841714 \r\nL 825.309 246.384 \r\nL 849.117 254.926286 \r\nL 872.925 263.468571 \r\nL 896.733 263.468571 \r\nL 920.541 263.468571 \r\nL 944.349 263.468571 \r\nL 968.157 263.468571 \r\nL 991.965 263.468571 \r\nL 1015.773 263.468571 \r\nL 1039.581 263.468571 \r\nL 1063.389 263.468571 \r\nL 1087.197 263.468571 \r\nL 1111.005 263.468571 \r\n\" style=\"fill:none;stroke:#c44240;stroke-linecap:square;stroke-width:1.5;\"/>\r\n   </g>\r\n   <g id=\"line2d_22\">\r\n    <path clip-path=\"url(#p8f1345cd55)\" d=\"M 39.645 35.674286 \r\nL 63.453 35.674286 \r\nL 87.261 35.674286 \r\nL 111.069 35.674286 \r\nL 134.877 35.674286 \r\nL 158.685 35.674286 \r\nL 182.493 47.633486 \r\nL 206.301 59.592686 \r\nL 230.109 71.551886 \r\nL 253.917 83.511086 \r\nL 277.725 95.470286 \r\nL 301.533 107.429486 \r\nL 325.341 119.388686 \r\nL 349.149 131.347886 \r\nL 372.957 143.307086 \r\nL 396.765 155.266286 \r\nL 420.573 157.544229 \r\nL 444.381 159.822171 \r\nL 468.189 162.100114 \r\nL 491.997 164.378057 \r\nL 515.805 166.656 \r\nL 539.613 168.933943 \r\nL 563.421 171.211886 \r\nL 587.229 173.489829 \r\nL 611.037 175.767771 \r\nL 634.845 178.045714 \r\nL 658.653 186.588 \r\nL 682.461 195.130286 \r\nL 706.269 203.672571 \r\nL 730.077 212.214857 \r\nL 753.885 220.757143 \r\nL 777.693 229.299429 \r\nL 801.501 237.841714 \r\nL 825.309 246.384 \r\nL 849.117 254.926286 \r\nL 872.925 263.468571 \r\nL 896.733 263.468571 \r\nL 920.541 263.468571 \r\nL 944.349 263.468571 \r\nL 968.157 263.468571 \r\nL 991.965 263.468571 \r\nL 1015.773 263.468571 \r\nL 1039.581 263.468571 \r\nL 1063.389 263.468571 \r\nL 1087.197 263.468571 \r\nL 1111.005 263.468571 \r\n\" style=\"fill:none;stroke:#894585;stroke-linecap:square;stroke-width:1.5;\"/>\r\n   </g>\r\n   <g id=\"line2d_23\">\r\n    <path clip-path=\"url(#p8f1345cd55)\" d=\"M 39.645 35.674286 \r\nL 63.453 35.674286 \r\nL 87.261 35.674286 \r\nL 111.069 35.674286 \r\nL 134.877 35.674286 \r\nL 158.685 35.674286 \r\nL 182.493 35.674286 \r\nL 206.301 35.674286 \r\nL 230.109 35.674286 \r\nL 253.917 35.674286 \r\nL 277.725 35.674286 \r\nL 301.533 35.674286 \r\nL 325.341 35.674286 \r\nL 349.149 35.674286 \r\nL 372.957 35.674286 \r\nL 396.765 35.674286 \r\nL 420.573 35.674286 \r\nL 444.381 35.674286 \r\nL 468.189 35.674286 \r\nL 491.997 35.674286 \r\nL 515.805 35.674286 \r\nL 539.613 35.674286 \r\nL 563.421 35.674286 \r\nL 587.229 35.674286 \r\nL 611.037 35.674286 \r\nL 634.845 35.674286 \r\nL 658.653 35.674286 \r\nL 682.461 35.674286 \r\nL 706.269 35.674286 \r\nL 730.077 35.674286 \r\nL 753.885 35.674286 \r\nL 777.693 35.674286 \r\nL 801.501 35.674286 \r\nL 825.309 35.674286 \r\nL 849.117 35.674286 \r\nL 872.925 35.674286 \r\nL 896.733 35.674286 \r\nL 920.541 35.674286 \r\nL 944.349 35.674286 \r\nL 968.157 35.674286 \r\nL 991.965 35.674286 \r\nL 1015.773 35.674286 \r\nL 1039.581 35.674286 \r\nL 1063.389 35.674286 \r\nL 1087.197 35.674286 \r\nL 1111.005 35.674286 \r\n\" style=\"fill:none;stroke:#f1da7a;stroke-linecap:square;stroke-width:1.5;\"/>\r\n   </g>\r\n   <g id=\"line2d_24\">\r\n    <path clip-path=\"url(#p8f1345cd55)\" d=\"M 39.645 35.674286 \r\nL 63.453 35.674286 \r\nL 87.261 35.674286 \r\nL 111.069 35.674286 \r\nL 134.877 35.674286 \r\nL 158.685 35.674286 \r\nL 182.493 35.674286 \r\nL 206.301 35.674286 \r\nL 230.109 35.674286 \r\nL 253.917 35.674286 \r\nL 277.725 35.674286 \r\nL 301.533 35.674286 \r\nL 325.341 35.674286 \r\nL 349.149 35.674286 \r\nL 372.957 35.674286 \r\nL 396.765 35.674286 \r\nL 420.573 35.674286 \r\nL 444.381 35.674286 \r\nL 468.189 35.674286 \r\nL 491.997 35.674286 \r\nL 515.805 35.674286 \r\nL 539.613 35.674286 \r\nL 563.421 35.674286 \r\nL 587.229 35.674286 \r\nL 611.037 35.674286 \r\nL 634.845 35.674286 \r\nL 658.653 35.674286 \r\nL 682.461 35.674286 \r\nL 706.269 35.674286 \r\nL 730.077 35.674286 \r\nL 753.885 35.674286 \r\nL 777.693 35.674286 \r\nL 801.501 35.674286 \r\nL 825.309 35.674286 \r\nL 849.117 35.674286 \r\nL 872.925 35.674286 \r\nL 896.733 35.674286 \r\nL 920.541 35.674286 \r\nL 944.349 35.674286 \r\nL 968.157 35.674286 \r\nL 991.965 35.674286 \r\nL 1015.773 35.674286 \r\nL 1039.581 35.674286 \r\nL 1063.389 35.674286 \r\nL 1087.197 35.674286 \r\nL 1111.005 35.674286 \r\n\" style=\"fill:none;stroke:#610023;stroke-linecap:square;stroke-width:1.5;\"/>\r\n   </g>\r\n   <g id=\"patch_3\">\r\n    <path d=\"M 39.645 605.16 \r\nL 39.645 7.2 \r\n\" style=\"fill:none;stroke:#000000;stroke-linecap:square;stroke-linejoin:miter;stroke-width:0.8;\"/>\r\n   </g>\r\n   <g id=\"patch_4\">\r\n    <path d=\"M 1111.005 605.16 \r\nL 1111.005 7.2 \r\n\" style=\"fill:none;stroke:#000000;stroke-linecap:square;stroke-linejoin:miter;stroke-width:0.8;\"/>\r\n   </g>\r\n   <g id=\"patch_5\">\r\n    <path d=\"M 39.645 605.16 \r\nL 1111.005 605.16 \r\n\" style=\"fill:none;stroke:#000000;stroke-linecap:square;stroke-linejoin:miter;stroke-width:0.8;\"/>\r\n   </g>\r\n   <g id=\"patch_6\">\r\n    <path d=\"M 39.645 7.2 \r\nL 1111.005 7.2 \r\n\" style=\"fill:none;stroke:#000000;stroke-linecap:square;stroke-linejoin:miter;stroke-width:0.8;\"/>\r\n   </g>\r\n   <g id=\"legend_1\">\r\n    <g id=\"patch_7\">\r\n     <path d=\"M 109.36625 724.726 \r\nL 1041.28375 724.726 \r\nQ 1044.48375 724.726 1044.48375 721.526 \r\nL 1044.48375 676.156 \r\nQ 1044.48375 672.956 1041.28375 672.956 \r\nL 109.36625 672.956 \r\nQ 106.16625 672.956 106.16625 676.156 \r\nL 106.16625 721.526 \r\nQ 106.16625 724.726 109.36625 724.726 \r\nz\r\n\" style=\"fill:#ffffff;opacity:0.8;stroke:#cccccc;stroke-linejoin:miter;\"/>\r\n    </g>\r\n    <g id=\"patch_8\">\r\n     <path d=\"M 112.56625 691.5135 \r\nL 144.56625 691.5135 \r\nL 144.56625 680.3135 \r\nL 112.56625 680.3135 \r\nz\r\n\" style=\"fill:#a8a8a8;stroke:#a8a8a8;stroke-linejoin:miter;\"/>\r\n    </g>\r\n    <g id=\"text_17\">\r\n     <!-- NCA -->\r\n     <defs>\r\n      <path d=\"M 9.8125 72.90625 \r\nL 23.09375 72.90625 \r\nL 55.421875 11.921875 \r\nL 55.421875 72.90625 \r\nL 64.984375 72.90625 \r\nL 64.984375 0 \r\nL 51.703125 0 \r\nL 19.390625 60.984375 \r\nL 19.390625 0 \r\nL 9.8125 0 \r\nz\r\n\" id=\"DejaVuSans-78\"/>\r\n      <path d=\"M 64.40625 67.28125 \r\nL 64.40625 56.890625 \r\nQ 59.421875 61.53125 53.78125 63.8125 \r\nQ 48.140625 66.109375 41.796875 66.109375 \r\nQ 29.296875 66.109375 22.65625 58.46875 \r\nQ 16.015625 50.828125 16.015625 36.375 \r\nQ 16.015625 21.96875 22.65625 14.328125 \r\nQ 29.296875 6.6875 41.796875 6.6875 \r\nQ 48.140625 6.6875 53.78125 8.984375 \r\nQ 59.421875 11.28125 64.40625 15.921875 \r\nL 64.40625 5.609375 \r\nQ 59.234375 2.09375 53.4375 0.328125 \r\nQ 47.65625 -1.421875 41.21875 -1.421875 \r\nQ 24.65625 -1.421875 15.125 8.703125 \r\nQ 5.609375 18.84375 5.609375 36.375 \r\nQ 5.609375 53.953125 15.125 64.078125 \r\nQ 24.65625 74.21875 41.21875 74.21875 \r\nQ 47.75 74.21875 53.53125 72.484375 \r\nQ 59.328125 70.75 64.40625 67.28125 \r\nz\r\n\" id=\"DejaVuSans-67\"/>\r\n      <path d=\"M 34.1875 63.1875 \r\nL 20.796875 26.90625 \r\nL 47.609375 26.90625 \r\nz\r\nM 28.609375 72.90625 \r\nL 39.796875 72.90625 \r\nL 67.578125 0 \r\nL 57.328125 0 \r\nL 50.6875 18.703125 \r\nL 17.828125 18.703125 \r\nL 11.1875 0 \r\nL 0.78125 0 \r\nz\r\n\" id=\"DejaVuSans-65\"/>\r\n     </defs>\r\n     <g transform=\"translate(157.36625 691.5135)scale(0.16 -0.16)\">\r\n      <use xlink:href=\"#DejaVuSans-78\"/>\r\n      <use x=\"74.804688\" xlink:href=\"#DejaVuSans-67\"/>\r\n      <use x=\"144.628906\" xlink:href=\"#DejaVuSans-65\"/>\r\n     </g>\r\n    </g>\r\n    <g id=\"patch_9\">\r\n     <path d=\"M 112.56625 714.9985 \r\nL 144.56625 714.9985 \r\nL 144.56625 703.7985 \r\nL 112.56625 703.7985 \r\nz\r\n\" style=\"fill:#49759c;stroke:#49759c;stroke-linejoin:miter;\"/>\r\n    </g>\r\n    <g id=\"text_18\">\r\n     <!-- NCM 532 -->\r\n     <defs>\r\n      <path d=\"M 9.8125 72.90625 \r\nL 24.515625 72.90625 \r\nL 43.109375 23.296875 \r\nL 61.8125 72.90625 \r\nL 76.515625 72.90625 \r\nL 76.515625 0 \r\nL 66.890625 0 \r\nL 66.890625 64.015625 \r\nL 48.09375 14.015625 \r\nL 38.1875 14.015625 \r\nL 19.390625 64.015625 \r\nL 19.390625 0 \r\nL 9.8125 0 \r\nz\r\n\" id=\"DejaVuSans-77\"/>\r\n      <path id=\"DejaVuSans-32\"/>\r\n     </defs>\r\n     <g transform=\"translate(157.36625 714.9985)scale(0.16 -0.16)\">\r\n      <use xlink:href=\"#DejaVuSans-78\"/>\r\n      <use x=\"74.804688\" xlink:href=\"#DejaVuSans-67\"/>\r\n      <use x=\"144.628906\" xlink:href=\"#DejaVuSans-77\"/>\r\n      <use x=\"230.908203\" xlink:href=\"#DejaVuSans-32\"/>\r\n      <use x=\"262.695312\" xlink:href=\"#DejaVuSans-53\"/>\r\n      <use x=\"326.318359\" xlink:href=\"#DejaVuSans-51\"/>\r\n      <use x=\"389.941406\" xlink:href=\"#DejaVuSans-50\"/>\r\n     </g>\r\n    </g>\r\n    <g id=\"patch_10\">\r\n     <path d=\"M 261.93875 691.5135 \r\nL 293.93875 691.5135 \r\nL 293.93875 680.3135 \r\nL 261.93875 680.3135 \r\nz\r\n\" style=\"fill:#77ab56;stroke:#77ab56;stroke-linejoin:miter;\"/>\r\n    </g>\r\n    <g id=\"text_19\">\r\n     <!-- NCM 622 -->\r\n     <g transform=\"translate(306.73875 691.5135)scale(0.16 -0.16)\">\r\n      <use xlink:href=\"#DejaVuSans-78\"/>\r\n      <use x=\"74.804688\" xlink:href=\"#DejaVuSans-67\"/>\r\n      <use x=\"144.628906\" xlink:href=\"#DejaVuSans-77\"/>\r\n      <use x=\"230.908203\" xlink:href=\"#DejaVuSans-32\"/>\r\n      <use x=\"262.695312\" xlink:href=\"#DejaVuSans-54\"/>\r\n      <use x=\"326.318359\" xlink:href=\"#DejaVuSans-50\"/>\r\n      <use x=\"389.941406\" xlink:href=\"#DejaVuSans-50\"/>\r\n     </g>\r\n    </g>\r\n    <g id=\"patch_11\">\r\n     <path d=\"M 411.31125 691.5135 \r\nL 443.31125 691.5135 \r\nL 443.31125 680.3135 \r\nL 411.31125 680.3135 \r\nz\r\n\" style=\"fill:#fdaa48;stroke:#fdaa48;stroke-linejoin:miter;\"/>\r\n    </g>\r\n    <g id=\"text_20\">\r\n     <!-- NCM 811 -->\r\n     <g transform=\"translate(456.11125 691.5135)scale(0.16 -0.16)\">\r\n      <use xlink:href=\"#DejaVuSans-78\"/>\r\n      <use x=\"74.804688\" xlink:href=\"#DejaVuSans-67\"/>\r\n      <use x=\"144.628906\" xlink:href=\"#DejaVuSans-77\"/>\r\n      <use x=\"230.908203\" xlink:href=\"#DejaVuSans-32\"/>\r\n      <use x=\"262.695312\" xlink:href=\"#DejaVuSans-56\"/>\r\n      <use x=\"326.318359\" xlink:href=\"#DejaVuSans-49\"/>\r\n      <use x=\"389.941406\" xlink:href=\"#DejaVuSans-49\"/>\r\n     </g>\r\n    </g>\r\n    <g id=\"patch_12\">\r\n     <path d=\"M 560.68375 691.5135 \r\nL 592.68375 691.5135 \r\nL 592.68375 680.3135 \r\nL 560.68375 680.3135 \r\nz\r\n\" style=\"fill:#c44240;stroke:#c44240;stroke-linejoin:miter;\"/>\r\n    </g>\r\n    <g id=\"text_21\">\r\n     <!-- LFP -->\r\n     <defs>\r\n      <path d=\"M 9.8125 72.90625 \r\nL 19.671875 72.90625 \r\nL 19.671875 8.296875 \r\nL 55.171875 8.296875 \r\nL 55.171875 0 \r\nL 9.8125 0 \r\nz\r\n\" id=\"DejaVuSans-76\"/>\r\n      <path d=\"M 9.8125 72.90625 \r\nL 51.703125 72.90625 \r\nL 51.703125 64.59375 \r\nL 19.671875 64.59375 \r\nL 19.671875 43.109375 \r\nL 48.578125 43.109375 \r\nL 48.578125 34.8125 \r\nL 19.671875 34.8125 \r\nL 19.671875 0 \r\nL 9.8125 0 \r\nz\r\n\" id=\"DejaVuSans-70\"/>\r\n      <path d=\"M 19.671875 64.796875 \r\nL 19.671875 37.40625 \r\nL 32.078125 37.40625 \r\nQ 38.96875 37.40625 42.71875 40.96875 \r\nQ 46.484375 44.53125 46.484375 51.125 \r\nQ 46.484375 57.671875 42.71875 61.234375 \r\nQ 38.96875 64.796875 32.078125 64.796875 \r\nz\r\nM 9.8125 72.90625 \r\nL 32.078125 72.90625 \r\nQ 44.34375 72.90625 50.609375 67.359375 \r\nQ 56.890625 61.8125 56.890625 51.125 \r\nQ 56.890625 40.328125 50.609375 34.8125 \r\nQ 44.34375 29.296875 32.078125 29.296875 \r\nL 19.671875 29.296875 \r\nL 19.671875 0 \r\nL 9.8125 0 \r\nz\r\n\" id=\"DejaVuSans-80\"/>\r\n     </defs>\r\n     <g transform=\"translate(605.48375 691.5135)scale(0.16 -0.16)\">\r\n      <use xlink:href=\"#DejaVuSans-76\"/>\r\n      <use x=\"55.712891\" xlink:href=\"#DejaVuSans-70\"/>\r\n      <use x=\"113.232422\" xlink:href=\"#DejaVuSans-80\"/>\r\n     </g>\r\n    </g>\r\n    <g id=\"patch_13\">\r\n     <path d=\"M 665.24875 691.5135 \r\nL 697.24875 691.5135 \r\nL 697.24875 680.3135 \r\nL 665.24875 680.3135 \r\nz\r\n\" style=\"fill:#894585;stroke:#894585;stroke-linejoin:miter;\"/>\r\n    </g>\r\n    <g id=\"text_22\">\r\n     <!-- NCM 111 -->\r\n     <g transform=\"translate(710.04875 691.5135)scale(0.16 -0.16)\">\r\n      <use xlink:href=\"#DejaVuSans-78\"/>\r\n      <use x=\"74.804688\" xlink:href=\"#DejaVuSans-67\"/>\r\n      <use x=\"144.628906\" xlink:href=\"#DejaVuSans-77\"/>\r\n      <use x=\"230.908203\" xlink:href=\"#DejaVuSans-32\"/>\r\n      <use x=\"262.695312\" xlink:href=\"#DejaVuSans-49\"/>\r\n      <use x=\"326.318359\" xlink:href=\"#DejaVuSans-49\"/>\r\n      <use x=\"389.941406\" xlink:href=\"#DejaVuSans-49\"/>\r\n     </g>\r\n    </g>\r\n    <g id=\"patch_14\">\r\n     <path d=\"M 814.62125 691.5135 \r\nL 846.62125 691.5135 \r\nL 846.62125 680.3135 \r\nL 814.62125 680.3135 \r\nz\r\n\" style=\"fill:#f1da7a;stroke:#f1da7a;stroke-linejoin:miter;\"/>\r\n    </g>\r\n    <g id=\"text_23\">\r\n     <!-- NCM 955 -->\r\n     <defs>\r\n      <path d=\"M 10.984375 1.515625 \r\nL 10.984375 10.5 \r\nQ 14.703125 8.734375 18.5 7.8125 \r\nQ 22.3125 6.890625 25.984375 6.890625 \r\nQ 35.75 6.890625 40.890625 13.453125 \r\nQ 46.046875 20.015625 46.78125 33.40625 \r\nQ 43.953125 29.203125 39.59375 26.953125 \r\nQ 35.25 24.703125 29.984375 24.703125 \r\nQ 19.046875 24.703125 12.671875 31.3125 \r\nQ 6.296875 37.9375 6.296875 49.421875 \r\nQ 6.296875 60.640625 12.9375 67.421875 \r\nQ 19.578125 74.21875 30.609375 74.21875 \r\nQ 43.265625 74.21875 49.921875 64.515625 \r\nQ 56.59375 54.828125 56.59375 36.375 \r\nQ 56.59375 19.140625 48.40625 8.859375 \r\nQ 40.234375 -1.421875 26.421875 -1.421875 \r\nQ 22.703125 -1.421875 18.890625 -0.6875 \r\nQ 15.09375 0.046875 10.984375 1.515625 \r\nz\r\nM 30.609375 32.421875 \r\nQ 37.25 32.421875 41.125 36.953125 \r\nQ 45.015625 41.5 45.015625 49.421875 \r\nQ 45.015625 57.28125 41.125 61.84375 \r\nQ 37.25 66.40625 30.609375 66.40625 \r\nQ 23.96875 66.40625 20.09375 61.84375 \r\nQ 16.21875 57.28125 16.21875 49.421875 \r\nQ 16.21875 41.5 20.09375 36.953125 \r\nQ 23.96875 32.421875 30.609375 32.421875 \r\nz\r\n\" id=\"DejaVuSans-57\"/>\r\n     </defs>\r\n     <g transform=\"translate(859.42125 691.5135)scale(0.16 -0.16)\">\r\n      <use xlink:href=\"#DejaVuSans-78\"/>\r\n      <use x=\"74.804688\" xlink:href=\"#DejaVuSans-67\"/>\r\n      <use x=\"144.628906\" xlink:href=\"#DejaVuSans-77\"/>\r\n      <use x=\"230.908203\" xlink:href=\"#DejaVuSans-32\"/>\r\n      <use x=\"262.695312\" xlink:href=\"#DejaVuSans-57\"/>\r\n      <use x=\"326.318359\" xlink:href=\"#DejaVuSans-53\"/>\r\n      <use x=\"389.941406\" xlink:href=\"#DejaVuSans-53\"/>\r\n     </g>\r\n    </g>\r\n    <g id=\"patch_15\">\r\n     <path d=\"M 963.99375 691.5135 \r\nL 995.99375 691.5135 \r\nL 995.99375 680.3135 \r\nL 963.99375 680.3135 \r\nz\r\n\" style=\"fill:#610023;stroke:#610023;stroke-linejoin:miter;\"/>\r\n    </g>\r\n    <g id=\"text_24\">\r\n     <!-- Li-S -->\r\n     <defs>\r\n      <path d=\"M 9.421875 54.6875 \r\nL 18.40625 54.6875 \r\nL 18.40625 0 \r\nL 9.421875 0 \r\nz\r\nM 9.421875 75.984375 \r\nL 18.40625 75.984375 \r\nL 18.40625 64.59375 \r\nL 9.421875 64.59375 \r\nz\r\n\" id=\"DejaVuSans-105\"/>\r\n      <path d=\"M 4.890625 31.390625 \r\nL 31.203125 31.390625 \r\nL 31.203125 23.390625 \r\nL 4.890625 23.390625 \r\nz\r\n\" id=\"DejaVuSans-45\"/>\r\n      <path d=\"M 53.515625 70.515625 \r\nL 53.515625 60.890625 \r\nQ 47.90625 63.578125 42.921875 64.890625 \r\nQ 37.9375 66.21875 33.296875 66.21875 \r\nQ 25.25 66.21875 20.875 63.09375 \r\nQ 16.5 59.96875 16.5 54.203125 \r\nQ 16.5 49.359375 19.40625 46.890625 \r\nQ 22.3125 44.4375 30.421875 42.921875 \r\nL 36.375 41.703125 \r\nQ 47.40625 39.59375 52.65625 34.296875 \r\nQ 57.90625 29 57.90625 20.125 \r\nQ 57.90625 9.515625 50.796875 4.046875 \r\nQ 43.703125 -1.421875 29.984375 -1.421875 \r\nQ 24.8125 -1.421875 18.96875 -0.25 \r\nQ 13.140625 0.921875 6.890625 3.21875 \r\nL 6.890625 13.375 \r\nQ 12.890625 10.015625 18.65625 8.296875 \r\nQ 24.421875 6.59375 29.984375 6.59375 \r\nQ 38.421875 6.59375 43.015625 9.90625 \r\nQ 47.609375 13.234375 47.609375 19.390625 \r\nQ 47.609375 24.75 44.3125 27.78125 \r\nQ 41.015625 30.8125 33.5 32.328125 \r\nL 27.484375 33.5 \r\nQ 16.453125 35.6875 11.515625 40.375 \r\nQ 6.59375 45.0625 6.59375 53.421875 \r\nQ 6.59375 63.09375 13.40625 68.65625 \r\nQ 20.21875 74.21875 32.171875 74.21875 \r\nQ 37.3125 74.21875 42.625 73.28125 \r\nQ 47.953125 72.359375 53.515625 70.515625 \r\nz\r\n\" id=\"DejaVuSans-83\"/>\r\n     </defs>\r\n     <g transform=\"translate(1008.79375 691.5135)scale(0.16 -0.16)\">\r\n      <use xlink:href=\"#DejaVuSans-76\"/>\r\n      <use x=\"55.712891\" xlink:href=\"#DejaVuSans-105\"/>\r\n      <use x=\"83.496094\" xlink:href=\"#DejaVuSans-45\"/>\r\n      <use x=\"119.580078\" xlink:href=\"#DejaVuSans-83\"/>\r\n     </g>\r\n    </g>\r\n   </g>\r\n  </g>\r\n </g>\r\n <defs>\r\n  <clipPath id=\"p8f1345cd55\">\r\n   <rect height=\"597.96\" width=\"1071.36\" x=\"39.645\" y=\"7.2\"/>\r\n  </clipPath>\r\n </defs>\r\n</svg>\r\n",
      "image/png": "[encoded data removed]"
     },
     "metadata": {
      "needs_background": "light"
     }
    }
   ],
   "source": [
    "inter = chemistries.transpose()\n",
    "inter.plot.area(cmap = my_map,figsize =(19.2,11), fontsize = 16)\n",
    "#plt.legend(bbox_to_anchor = (1,1))\n",
    "plt.legend(bbox_to_anchor=(0.5, -0.1), loc='upper center',ncol=7, fontsize = 16)\n",
    "plt.savefig('chemistries.jpeg', pad = 5)"
   ]
  },
  {
   "cell_type": "markdown",
   "metadata": {},
   "source": [
    "### Read in the battery sizes from the EV database"
   ]
  },
  {
   "cell_type": "code",
   "execution_count": 25,
   "metadata": {},
   "outputs": [],
   "source": [
    "#batt_size = pd.read_excel('Chemistries_scen1.xlsx', sheet_name = 'BEV_data', skiprows=3, nrows = 11, usecols = 'B:J')\n",
    "#batt_size = batt_size.set_index(\"Segment\")\n",
    "\n",
    "batt_size_PHEV = pd.read_excel('Chemistries_scen1.xlsx', sheet_name = 'BEV_data', skiprows=20, nrows = 7, usecols = 'B:C')\n",
    "batt_size_PHEV = batt_size_PHEV.set_index(\"Segment\")\n"
   ]
  },
  {
   "cell_type": "code",
   "execution_count": 26,
   "metadata": {},
   "outputs": [
    {
     "output_type": "execute_result",
     "data": {
      "text/plain": [
       "         mean\n",
       "Segment      \n",
       "A           5\n",
       "B          10\n",
       "C          15\n",
       "D          15\n",
       "E          15\n",
       "F          15\n",
       "J          15"
      ],
      "text/html": "<div>\n<style scoped>\n    .dataframe tbody tr th:only-of-type {\n        vertical-align: middle;\n    }\n\n    .dataframe tbody tr th {\n        vertical-align: top;\n    }\n\n    .dataframe thead th {\n        text-align: right;\n    }\n</style>\n<table border=\"1\" class=\"dataframe\">\n  <thead>\n    <tr style=\"text-align: right;\">\n      <th></th>\n      <th>mean</th>\n    </tr>\n    <tr>\n      <th>Segment</th>\n      <th></th>\n    </tr>\n  </thead>\n  <tbody>\n    <tr>\n      <th>A</th>\n      <td>5</td>\n    </tr>\n    <tr>\n      <th>B</th>\n      <td>10</td>\n    </tr>\n    <tr>\n      <th>C</th>\n      <td>15</td>\n    </tr>\n    <tr>\n      <th>D</th>\n      <td>15</td>\n    </tr>\n    <tr>\n      <th>E</th>\n      <td>15</td>\n    </tr>\n    <tr>\n      <th>F</th>\n      <td>15</td>\n    </tr>\n    <tr>\n      <th>J</th>\n      <td>15</td>\n    </tr>\n  </tbody>\n</table>\n</div>"
     },
     "metadata": {},
     "execution_count": 26
    }
   ],
   "source": [
    "batt_size_PHEV"
   ]
  },
  {
   "cell_type": "markdown",
   "metadata": {},
   "source": [
    "### Try to calculate number of batteries of each chemistry  in each segment.\n",
    "### Useful dfs --> BEV_stock_segment, chemistries, batt_size"
   ]
  },
  {
   "cell_type": "code",
   "execution_count": 27,
   "metadata": {},
   "outputs": [
    {
     "output_type": "execute_result",
     "data": {
      "text/plain": [
       "           2015   2016   2017   2018   2019  2020   2021   2022   2023   2024  \\\n",
       "chemistry                                                                       \n",
       "NCA        0.15  0.150  0.150  0.150  0.150  0.15  0.148  0.146  0.144  0.142   \n",
       "NCM 532    0.30  0.264  0.228  0.192  0.156  0.12  0.110  0.100  0.090  0.080   \n",
       "NCM 622    0.10  0.126  0.152  0.178  0.204  0.23  0.234  0.238  0.242  0.246   \n",
       "NCM 811    0.00  0.020  0.040  0.060  0.080  0.10  0.117  0.134  0.151  0.168   \n",
       "LFP        0.21  0.208  0.206  0.204  0.202  0.20  0.190  0.180  0.170  0.160   \n",
       "NCM 111    0.24  0.232  0.224  0.216  0.208  0.20  0.180  0.160  0.140  0.120   \n",
       "NCM 955    0.00  0.000  0.000  0.000  0.000  0.00  0.021  0.042  0.063  0.084   \n",
       "Li-S       0.00  0.000  0.000  0.000  0.000  0.00  0.000  0.000  0.000  0.000   \n",
       "\n",
       "           ...  2051  2052  2053  2054  2055  2056  2057  2058  2059  2060  \n",
       "chemistry  ...                                                              \n",
       "NCA        ...  0.07  0.07  0.07  0.07  0.07  0.07  0.07  0.07  0.07  0.07  \n",
       "NCM 532    ...  0.00  0.00  0.00  0.00  0.00  0.00  0.00  0.00  0.00  0.00  \n",
       "NCM 622    ...  0.16  0.16  0.16  0.16  0.16  0.16  0.16  0.16  0.16  0.16  \n",
       "NCM 811    ...  0.30  0.30  0.30  0.30  0.30  0.30  0.30  0.30  0.30  0.30  \n",
       "LFP        ...  0.07  0.07  0.07  0.07  0.07  0.07  0.07  0.07  0.07  0.07  \n",
       "NCM 111    ...  0.00  0.00  0.00  0.00  0.00  0.00  0.00  0.00  0.00  0.00  \n",
       "NCM 955    ...  0.40  0.40  0.40  0.40  0.40  0.40  0.40  0.40  0.40  0.40  \n",
       "Li-S       ...  0.00  0.00  0.00  0.00  0.00  0.00  0.00  0.00  0.00  0.00  \n",
       "\n",
       "[8 rows x 46 columns]"
      ],
      "text/html": "<div>\n<style scoped>\n    .dataframe tbody tr th:only-of-type {\n        vertical-align: middle;\n    }\n\n    .dataframe tbody tr th {\n        vertical-align: top;\n    }\n\n    .dataframe thead th {\n        text-align: right;\n    }\n</style>\n<table border=\"1\" class=\"dataframe\">\n  <thead>\n    <tr style=\"text-align: right;\">\n      <th></th>\n      <th>2015</th>\n      <th>2016</th>\n      <th>2017</th>\n      <th>2018</th>\n      <th>2019</th>\n      <th>2020</th>\n      <th>2021</th>\n      <th>2022</th>\n      <th>2023</th>\n      <th>2024</th>\n      <th>...</th>\n      <th>2051</th>\n      <th>2052</th>\n      <th>2053</th>\n      <th>2054</th>\n      <th>2055</th>\n      <th>2056</th>\n      <th>2057</th>\n      <th>2058</th>\n      <th>2059</th>\n      <th>2060</th>\n    </tr>\n    <tr>\n      <th>chemistry</th>\n      <th></th>\n      <th></th>\n      <th></th>\n      <th></th>\n      <th></th>\n      <th></th>\n      <th></th>\n      <th></th>\n      <th></th>\n      <th></th>\n      <th></th>\n      <th></th>\n      <th></th>\n      <th></th>\n      <th></th>\n      <th></th>\n      <th></th>\n      <th></th>\n      <th></th>\n      <th></th>\n      <th></th>\n    </tr>\n  </thead>\n  <tbody>\n    <tr>\n      <th>NCA</th>\n      <td>0.15</td>\n      <td>0.150</td>\n      <td>0.150</td>\n      <td>0.150</td>\n      <td>0.150</td>\n      <td>0.15</td>\n      <td>0.148</td>\n      <td>0.146</td>\n      <td>0.144</td>\n      <td>0.142</td>\n      <td>...</td>\n      <td>0.07</td>\n      <td>0.07</td>\n      <td>0.07</td>\n      <td>0.07</td>\n      <td>0.07</td>\n      <td>0.07</td>\n      <td>0.07</td>\n      <td>0.07</td>\n      <td>0.07</td>\n      <td>0.07</td>\n    </tr>\n    <tr>\n      <th>NCM 532</th>\n      <td>0.30</td>\n      <td>0.264</td>\n      <td>0.228</td>\n      <td>0.192</td>\n      <td>0.156</td>\n      <td>0.12</td>\n      <td>0.110</td>\n      <td>0.100</td>\n      <td>0.090</td>\n      <td>0.080</td>\n      <td>...</td>\n      <td>0.00</td>\n      <td>0.00</td>\n      <td>0.00</td>\n      <td>0.00</td>\n      <td>0.00</td>\n      <td>0.00</td>\n      <td>0.00</td>\n      <td>0.00</td>\n      <td>0.00</td>\n      <td>0.00</td>\n    </tr>\n    <tr>\n      <th>NCM 622</th>\n      <td>0.10</td>\n      <td>0.126</td>\n      <td>0.152</td>\n      <td>0.178</td>\n      <td>0.204</td>\n      <td>0.23</td>\n      <td>0.234</td>\n      <td>0.238</td>\n      <td>0.242</td>\n      <td>0.246</td>\n      <td>...</td>\n      <td>0.16</td>\n      <td>0.16</td>\n      <td>0.16</td>\n      <td>0.16</td>\n      <td>0.16</td>\n      <td>0.16</td>\n      <td>0.16</td>\n      <td>0.16</td>\n      <td>0.16</td>\n      <td>0.16</td>\n    </tr>\n    <tr>\n      <th>NCM 811</th>\n      <td>0.00</td>\n      <td>0.020</td>\n      <td>0.040</td>\n      <td>0.060</td>\n      <td>0.080</td>\n      <td>0.10</td>\n      <td>0.117</td>\n      <td>0.134</td>\n      <td>0.151</td>\n      <td>0.168</td>\n      <td>...</td>\n      <td>0.30</td>\n      <td>0.30</td>\n      <td>0.30</td>\n      <td>0.30</td>\n      <td>0.30</td>\n      <td>0.30</td>\n      <td>0.30</td>\n      <td>0.30</td>\n      <td>0.30</td>\n      <td>0.30</td>\n    </tr>\n    <tr>\n      <th>LFP</th>\n      <td>0.21</td>\n      <td>0.208</td>\n      <td>0.206</td>\n      <td>0.204</td>\n      <td>0.202</td>\n      <td>0.20</td>\n      <td>0.190</td>\n      <td>0.180</td>\n      <td>0.170</td>\n      <td>0.160</td>\n      <td>...</td>\n      <td>0.07</td>\n      <td>0.07</td>\n      <td>0.07</td>\n      <td>0.07</td>\n      <td>0.07</td>\n      <td>0.07</td>\n      <td>0.07</td>\n      <td>0.07</td>\n      <td>0.07</td>\n      <td>0.07</td>\n    </tr>\n    <tr>\n      <th>NCM 111</th>\n      <td>0.24</td>\n      <td>0.232</td>\n      <td>0.224</td>\n      <td>0.216</td>\n      <td>0.208</td>\n      <td>0.20</td>\n      <td>0.180</td>\n      <td>0.160</td>\n      <td>0.140</td>\n      <td>0.120</td>\n      <td>...</td>\n      <td>0.00</td>\n      <td>0.00</td>\n      <td>0.00</td>\n      <td>0.00</td>\n      <td>0.00</td>\n      <td>0.00</td>\n      <td>0.00</td>\n      <td>0.00</td>\n      <td>0.00</td>\n      <td>0.00</td>\n    </tr>\n    <tr>\n      <th>NCM 955</th>\n      <td>0.00</td>\n      <td>0.000</td>\n      <td>0.000</td>\n      <td>0.000</td>\n      <td>0.000</td>\n      <td>0.00</td>\n      <td>0.021</td>\n      <td>0.042</td>\n      <td>0.063</td>\n      <td>0.084</td>\n      <td>...</td>\n      <td>0.40</td>\n      <td>0.40</td>\n      <td>0.40</td>\n      <td>0.40</td>\n      <td>0.40</td>\n      <td>0.40</td>\n      <td>0.40</td>\n      <td>0.40</td>\n      <td>0.40</td>\n      <td>0.40</td>\n    </tr>\n    <tr>\n      <th>Li-S</th>\n      <td>0.00</td>\n      <td>0.000</td>\n      <td>0.000</td>\n      <td>0.000</td>\n      <td>0.000</td>\n      <td>0.00</td>\n      <td>0.000</td>\n      <td>0.000</td>\n      <td>0.000</td>\n      <td>0.000</td>\n      <td>...</td>\n      <td>0.00</td>\n      <td>0.00</td>\n      <td>0.00</td>\n      <td>0.00</td>\n      <td>0.00</td>\n      <td>0.00</td>\n      <td>0.00</td>\n      <td>0.00</td>\n      <td>0.00</td>\n      <td>0.00</td>\n    </tr>\n  </tbody>\n</table>\n<p>8 rows × 46 columns</p>\n</div>"
     },
     "metadata": {},
     "execution_count": 27
    }
   ],
   "source": [
    "chemistries"
   ]
  },
  {
   "cell_type": "markdown",
   "metadata": {},
   "source": [
    "## Reindex dataframes"
   ]
  },
  {
   "cell_type": "code",
   "execution_count": 28,
   "metadata": {},
   "outputs": [],
   "source": [
    "ind = pd.MultiIndex.from_product([PHEV_segmented.index.to_list(), chemistries.index.to_list()])"
   ]
  },
  {
   "cell_type": "markdown",
   "metadata": {},
   "source": [
    "### Now, I assign a material content to each battery chemistry\n",
    "### This will be done in kg/kWh. \n",
    "\n",
    "\n"
   ]
  },
  {
   "cell_type": "markdown",
   "metadata": {},
   "source": [
    "### Next step is to assign a battery size to each segment and calculate the total capacity in the BEVs stock\n"
   ]
  },
  {
   "cell_type": "code",
   "execution_count": 29,
   "metadata": {},
   "outputs": [],
   "source": [
    "material = pd.read_excel('Test_chemistries.xlsx', sheet_name = 'Material composition', skiprows=1, nrows = 8, usecols = 'B:M')\n",
    "material = material.set_index(['chemistry'])"
   ]
  },
  {
   "cell_type": "code",
   "execution_count": 30,
   "metadata": {},
   "outputs": [],
   "source": [
    "material = material.transpose()"
   ]
  },
  {
   "cell_type": "code",
   "execution_count": 31,
   "metadata": {},
   "outputs": [],
   "source": [
    "batt_size_PHEV = batt_size_PHEV.reset_index() "
   ]
  },
  {
   "cell_type": "code",
   "execution_count": 32,
   "metadata": {},
   "outputs": [],
   "source": [
    "batt_size_PHEV.drop('Segment', inplace = True, axis = 1)"
   ]
  },
  {
   "cell_type": "code",
   "execution_count": 33,
   "metadata": {},
   "outputs": [],
   "source": [
    "new = pd.MultiIndex.from_product([PHEV_segmented.index.to_list(), chemistries.index.to_list(), material.index.to_list()])"
   ]
  },
  {
   "cell_type": "markdown",
   "metadata": {},
   "source": [
    "## Do the same for PHEVs"
   ]
  },
  {
   "cell_type": "code",
   "execution_count": 34,
   "metadata": {},
   "outputs": [],
   "source": [
    "PHEV_stock_segment_RCP26_SSP2 = PHEV_stock_segment_RCP26_SSP2.multiply(1000000)\n",
    "PHEV_stock_segment_RCP26_SSP1 = PHEV_stock_segment_RCP26_SSP1.multiply(1000000)\n",
    "PHEV_stock_segment_base_SSP1 = PHEV_stock_segment_base_SSP1.multiply(1000000)\n",
    "PHEV_segmented = PHEV_segmented.multiply(1000000)\n",
    "\n",
    "PHEV_stock_segment_RCP26_LED = PHEV_stock_segment_RCP26_LED.multiply(1000000)\n",
    "PHEV_stock_segment_base_LED = PHEV_stock_segment_base_LED.multiply(1000000)"
   ]
  },
  {
   "cell_type": "code",
   "execution_count": 35,
   "metadata": {},
   "outputs": [],
   "source": [
    "PHEV_RCP26_SSP2_seg_chem = PHEV_stock_segment_RCP26_SSP2\n",
    "PHEV_RCP26_SSP1_seg_chem = PHEV_stock_segment_RCP26_SSP1\n",
    "PHEV_base_SSP1_seg_chem = PHEV_stock_segment_base_SSP1\n",
    "PHEV_base_SSP2_seg_chem = PHEV_segmented\n",
    "\n",
    "PHEV_RCP26_LED_seg_chem = PHEV_stock_segment_RCP26_LED\n",
    "PHEV_base_LED_seg_chem = PHEV_stock_segment_base_LED"
   ]
  },
  {
   "cell_type": "code",
   "execution_count": 36,
   "metadata": {},
   "outputs": [],
   "source": [
    "PHEV_RCP26_SSP2_seg_chem = PHEV_RCP26_SSP2_seg_chem.reindex(ind, level = 0)\n",
    "PHEV_RCP26_SSP1_seg_chem = PHEV_RCP26_SSP1_seg_chem.reindex(ind, level = 0)\n",
    "PHEV_base_SSP1_seg_chem = PHEV_base_SSP1_seg_chem.reindex(ind, level = 0)\n",
    "PHEV_base_SSP2_seg_chem = PHEV_base_SSP2_seg_chem.reindex(ind, level = 0)\n",
    "\n",
    "PHEV_RCP26_LED_seg_chem = PHEV_RCP26_LED_seg_chem.reindex(ind, level = 0)\n",
    "PHEV_base_LED_seg_chem = PHEV_base_LED_seg_chem.reindex(ind, level = 0)"
   ]
  },
  {
   "cell_type": "code",
   "execution_count": 37,
   "metadata": {},
   "outputs": [],
   "source": [
    "PHEV_RCP26_SSP2_seg_chem = PHEV_RCP26_SSP2_seg_chem.multiply(chemistries, level = 1)\n",
    "PHEV_RCP26_SSP1_seg_chem = PHEV_RCP26_SSP1_seg_chem.multiply(chemistries, level = 1)\n",
    "PHEV_base_SSP1_seg_chem = PHEV_base_SSP1_seg_chem.multiply(chemistries, level = 1)\n",
    "PHEV_base_SSP2_seg_chem = PHEV_base_SSP2_seg_chem.multiply(chemistries, level = 1)\n",
    "\n",
    "PHEV_RCP26_LED_seg_chem = PHEV_RCP26_LED_seg_chem.multiply(chemistries, level = 1)\n",
    "PHEV_base_LED_seg_chem = PHEV_base_LED_seg_chem.multiply(chemistries, level = 1)"
   ]
  },
  {
   "cell_type": "code",
   "execution_count": 38,
   "metadata": {},
   "outputs": [],
   "source": [
    "PHEV_RCP26_SSP2_seg_chem_mat = PHEV_RCP26_SSP2_seg_chem.reindex(new)\n",
    "PHEV_RCP26_SSP1_seg_chem_mat = PHEV_RCP26_SSP1_seg_chem.reindex(new)\n",
    "PHEV_base_SSP1_seg_chem_mat = PHEV_base_SSP1_seg_chem.reindex(new)\n",
    "PHEV_base_SSP2_seg_chem_mat = PHEV_base_SSP2_seg_chem.reindex(new)\n",
    "\n",
    "PHEV_RCP26_LED_seg_chem_mat = PHEV_RCP26_LED_seg_chem.reindex(new)\n",
    "PHEV_base_LED_seg_chem_mat = PHEV_base_LED_seg_chem.reindex(new)"
   ]
  },
  {
   "cell_type": "markdown",
   "metadata": {},
   "source": [
    "## Now, we move on to the calculation of yearly capacity and material additions   "
   ]
  },
  {
   "cell_type": "code",
   "execution_count": 39,
   "metadata": {},
   "outputs": [
    {
     "output_type": "execute_result",
     "data": {
      "text/plain": [
       "   mean\n",
       "0     5\n",
       "1    10\n",
       "2    15\n",
       "3    15\n",
       "4    15\n",
       "5    15\n",
       "6    15"
      ],
      "text/html": "<div>\n<style scoped>\n    .dataframe tbody tr th:only-of-type {\n        vertical-align: middle;\n    }\n\n    .dataframe tbody tr th {\n        vertical-align: top;\n    }\n\n    .dataframe thead th {\n        text-align: right;\n    }\n</style>\n<table border=\"1\" class=\"dataframe\">\n  <thead>\n    <tr style=\"text-align: right;\">\n      <th></th>\n      <th>mean</th>\n    </tr>\n  </thead>\n  <tbody>\n    <tr>\n      <th>0</th>\n      <td>5</td>\n    </tr>\n    <tr>\n      <th>1</th>\n      <td>10</td>\n    </tr>\n    <tr>\n      <th>2</th>\n      <td>15</td>\n    </tr>\n    <tr>\n      <th>3</th>\n      <td>15</td>\n    </tr>\n    <tr>\n      <th>4</th>\n      <td>15</td>\n    </tr>\n    <tr>\n      <th>5</th>\n      <td>15</td>\n    </tr>\n    <tr>\n      <th>6</th>\n      <td>15</td>\n    </tr>\n  </tbody>\n</table>\n</div>"
     },
     "metadata": {},
     "execution_count": 39
    }
   ],
   "source": [
    "batt_size_PHEV"
   ]
  },
  {
   "cell_type": "code",
   "execution_count": 40,
   "metadata": {},
   "outputs": [],
   "source": [
    "years = PHEV_base_SSP2_seg_chem.columns"
   ]
  },
  {
   "cell_type": "code",
   "execution_count": 41,
   "metadata": {},
   "outputs": [],
   "source": [
    "material = material.transpose()\n",
    "material = material.stack()\n",
    "material = material.to_frame()\n",
    "material.index.names = ['','']\n",
    "material.columns = ['']"
   ]
  },
  {
   "cell_type": "code",
   "execution_count": 42,
   "metadata": {},
   "outputs": [
    {
     "output_type": "execute_result",
     "data": {
      "text/plain": [
       "                          \n",
       "                          \n",
       "NCA     Li        0.110026\n",
       "        Co        0.135000\n",
       "        Ni        0.700000\n",
       "        Mn        0.000000\n",
       "        Cu        0.743417\n",
       "        Al        0.397902\n",
       "        Graphite  0.985314\n",
       "        Al_pack   0.304030\n",
       "        Steel     0.405383\n",
       "        Cu_pack   0.081947\n",
       "        Plastics  0.375456\n",
       "NCM 532 Li        0.145654\n",
       "        Co        0.230000\n",
       "        Ni        0.480000\n",
       "        Mn        0.360000\n",
       "        Cu        0.800534\n",
       "        Al        0.416299\n",
       "        Graphite  0.985015\n",
       "        Al_pack   0.304030\n",
       "        Steel     0.405383\n",
       "        Cu_pack   0.081947\n",
       "        Plastics  0.375456\n",
       "NCM 622 Li        0.131165\n",
       "        Co        0.195000\n",
       "        Ni        0.620000\n",
       "        Mn        0.195000\n",
       "        Cu        0.738353\n",
       "        Al        0.383813\n",
       "        Graphite  0.966156\n",
       "        Al_pack   0.304030\n",
       "...                    ...\n",
       "NCM 111 Mn        0.367000\n",
       "        Cu        0.801000\n",
       "        Al        0.416000\n",
       "        Graphite  0.985000\n",
       "        Al_pack   0.304030\n",
       "        Steel     0.405383\n",
       "        Cu_pack   0.081947\n",
       "        Plastics  0.375456\n",
       "NCM 955 Li        0.106472\n",
       "        Co        0.047952\n",
       "        Ni        0.863130\n",
       "        Mn        0.047952\n",
       "        Cu        0.750084\n",
       "        Al        0.393131\n",
       "        Graphite  0.984087\n",
       "        Al_pack   0.304030\n",
       "        Steel     0.405383\n",
       "        Cu_pack   0.081947\n",
       "        Plastics  0.375456\n",
       "Li-S    Li        1.000000\n",
       "        Co        0.000000\n",
       "        Ni        0.000000\n",
       "        Mn        0.000000\n",
       "        Cu        0.750084\n",
       "        Al        0.393131\n",
       "        Graphite  0.984087\n",
       "        Al_pack   0.304030\n",
       "        Steel     0.405383\n",
       "        Cu_pack   0.081947\n",
       "        Plastics  0.375456\n",
       "\n",
       "[88 rows x 1 columns]"
      ],
      "text/html": "<div>\n<style scoped>\n    .dataframe tbody tr th:only-of-type {\n        vertical-align: middle;\n    }\n\n    .dataframe tbody tr th {\n        vertical-align: top;\n    }\n\n    .dataframe thead th {\n        text-align: right;\n    }\n</style>\n<table border=\"1\" class=\"dataframe\">\n  <thead>\n    <tr style=\"text-align: right;\">\n      <th></th>\n      <th></th>\n      <th></th>\n    </tr>\n    <tr>\n      <th></th>\n      <th></th>\n      <th></th>\n    </tr>\n  </thead>\n  <tbody>\n    <tr>\n      <th rowspan=\"11\" valign=\"top\">NCA</th>\n      <th>Li</th>\n      <td>0.110026</td>\n    </tr>\n    <tr>\n      <th>Co</th>\n      <td>0.135000</td>\n    </tr>\n    <tr>\n      <th>Ni</th>\n      <td>0.700000</td>\n    </tr>\n    <tr>\n      <th>Mn</th>\n      <td>0.000000</td>\n    </tr>\n    <tr>\n      <th>Cu</th>\n      <td>0.743417</td>\n    </tr>\n    <tr>\n      <th>Al</th>\n      <td>0.397902</td>\n    </tr>\n    <tr>\n      <th>Graphite</th>\n      <td>0.985314</td>\n    </tr>\n    <tr>\n      <th>Al_pack</th>\n      <td>0.304030</td>\n    </tr>\n    <tr>\n      <th>Steel</th>\n      <td>0.405383</td>\n    </tr>\n    <tr>\n      <th>Cu_pack</th>\n      <td>0.081947</td>\n    </tr>\n    <tr>\n      <th>Plastics</th>\n      <td>0.375456</td>\n    </tr>\n    <tr>\n      <th rowspan=\"11\" valign=\"top\">NCM 532</th>\n      <th>Li</th>\n      <td>0.145654</td>\n    </tr>\n    <tr>\n      <th>Co</th>\n      <td>0.230000</td>\n    </tr>\n    <tr>\n      <th>Ni</th>\n      <td>0.480000</td>\n    </tr>\n    <tr>\n      <th>Mn</th>\n      <td>0.360000</td>\n    </tr>\n    <tr>\n      <th>Cu</th>\n      <td>0.800534</td>\n    </tr>\n    <tr>\n      <th>Al</th>\n      <td>0.416299</td>\n    </tr>\n    <tr>\n      <th>Graphite</th>\n      <td>0.985015</td>\n    </tr>\n    <tr>\n      <th>Al_pack</th>\n      <td>0.304030</td>\n    </tr>\n    <tr>\n      <th>Steel</th>\n      <td>0.405383</td>\n    </tr>\n    <tr>\n      <th>Cu_pack</th>\n      <td>0.081947</td>\n    </tr>\n    <tr>\n      <th>Plastics</th>\n      <td>0.375456</td>\n    </tr>\n    <tr>\n      <th rowspan=\"8\" valign=\"top\">NCM 622</th>\n      <th>Li</th>\n      <td>0.131165</td>\n    </tr>\n    <tr>\n      <th>Co</th>\n      <td>0.195000</td>\n    </tr>\n    <tr>\n      <th>Ni</th>\n      <td>0.620000</td>\n    </tr>\n    <tr>\n      <th>Mn</th>\n      <td>0.195000</td>\n    </tr>\n    <tr>\n      <th>Cu</th>\n      <td>0.738353</td>\n    </tr>\n    <tr>\n      <th>Al</th>\n      <td>0.383813</td>\n    </tr>\n    <tr>\n      <th>Graphite</th>\n      <td>0.966156</td>\n    </tr>\n    <tr>\n      <th>Al_pack</th>\n      <td>0.304030</td>\n    </tr>\n    <tr>\n      <th>...</th>\n      <th>...</th>\n      <td>...</td>\n    </tr>\n    <tr>\n      <th rowspan=\"8\" valign=\"top\">NCM 111</th>\n      <th>Mn</th>\n      <td>0.367000</td>\n    </tr>\n    <tr>\n      <th>Cu</th>\n      <td>0.801000</td>\n    </tr>\n    <tr>\n      <th>Al</th>\n      <td>0.416000</td>\n    </tr>\n    <tr>\n      <th>Graphite</th>\n      <td>0.985000</td>\n    </tr>\n    <tr>\n      <th>Al_pack</th>\n      <td>0.304030</td>\n    </tr>\n    <tr>\n      <th>Steel</th>\n      <td>0.405383</td>\n    </tr>\n    <tr>\n      <th>Cu_pack</th>\n      <td>0.081947</td>\n    </tr>\n    <tr>\n      <th>Plastics</th>\n      <td>0.375456</td>\n    </tr>\n    <tr>\n      <th rowspan=\"11\" valign=\"top\">NCM 955</th>\n      <th>Li</th>\n      <td>0.106472</td>\n    </tr>\n    <tr>\n      <th>Co</th>\n      <td>0.047952</td>\n    </tr>\n    <tr>\n      <th>Ni</th>\n      <td>0.863130</td>\n    </tr>\n    <tr>\n      <th>Mn</th>\n      <td>0.047952</td>\n    </tr>\n    <tr>\n      <th>Cu</th>\n      <td>0.750084</td>\n    </tr>\n    <tr>\n      <th>Al</th>\n      <td>0.393131</td>\n    </tr>\n    <tr>\n      <th>Graphite</th>\n      <td>0.984087</td>\n    </tr>\n    <tr>\n      <th>Al_pack</th>\n      <td>0.304030</td>\n    </tr>\n    <tr>\n      <th>Steel</th>\n      <td>0.405383</td>\n    </tr>\n    <tr>\n      <th>Cu_pack</th>\n      <td>0.081947</td>\n    </tr>\n    <tr>\n      <th>Plastics</th>\n      <td>0.375456</td>\n    </tr>\n    <tr>\n      <th rowspan=\"11\" valign=\"top\">Li-S</th>\n      <th>Li</th>\n      <td>1.000000</td>\n    </tr>\n    <tr>\n      <th>Co</th>\n      <td>0.000000</td>\n    </tr>\n    <tr>\n      <th>Ni</th>\n      <td>0.000000</td>\n    </tr>\n    <tr>\n      <th>Mn</th>\n      <td>0.000000</td>\n    </tr>\n    <tr>\n      <th>Cu</th>\n      <td>0.750084</td>\n    </tr>\n    <tr>\n      <th>Al</th>\n      <td>0.393131</td>\n    </tr>\n    <tr>\n      <th>Graphite</th>\n      <td>0.984087</td>\n    </tr>\n    <tr>\n      <th>Al_pack</th>\n      <td>0.304030</td>\n    </tr>\n    <tr>\n      <th>Steel</th>\n      <td>0.405383</td>\n    </tr>\n    <tr>\n      <th>Cu_pack</th>\n      <td>0.081947</td>\n    </tr>\n    <tr>\n      <th>Plastics</th>\n      <td>0.375456</td>\n    </tr>\n  </tbody>\n</table>\n<p>88 rows × 1 columns</p>\n</div>"
     },
     "metadata": {},
     "execution_count": 42
    }
   ],
   "source": [
    "material"
   ]
  },
  {
   "cell_type": "code",
   "execution_count": 43,
   "metadata": {},
   "outputs": [
    {
     "output_type": "execute_result",
     "data": {
      "text/plain": [
       "                        mean\n",
       "0 NCA     Li        0.110026\n",
       "          Co        0.135000\n",
       "          Ni        0.700000\n",
       "          Mn        0.000000\n",
       "          Cu        0.743417\n",
       "          Al        0.397902\n",
       "          Graphite  0.985314\n",
       "          Al_pack   0.304030\n",
       "          Steel     0.405383\n",
       "          Cu_pack   0.081947\n",
       "          Plastics  0.375456\n",
       "  NCM 532 Li        0.145654\n",
       "          Co        0.230000\n",
       "          Ni        0.480000\n",
       "          Mn        0.360000\n",
       "          Cu        0.800534\n",
       "          Al        0.416299\n",
       "          Graphite  0.985015\n",
       "          Al_pack   0.304030\n",
       "          Steel     0.405383\n",
       "          Cu_pack   0.081947\n",
       "          Plastics  0.375456\n",
       "  NCM 622 Li        0.131165\n",
       "          Co        0.195000\n",
       "          Ni        0.620000\n",
       "          Mn        0.195000\n",
       "          Cu        0.738353\n",
       "          Al        0.383813\n",
       "          Graphite  0.966156\n",
       "          Al_pack   0.304030\n",
       "...                      ...\n",
       "6 NCM 111 Mn        0.367000\n",
       "          Cu        0.801000\n",
       "          Al        0.416000\n",
       "          Graphite  0.985000\n",
       "          Al_pack   0.304030\n",
       "          Steel     0.405383\n",
       "          Cu_pack   0.081947\n",
       "          Plastics  0.375456\n",
       "  NCM 955 Li        0.106472\n",
       "          Co        0.047952\n",
       "          Ni        0.863130\n",
       "          Mn        0.047952\n",
       "          Cu        0.750084\n",
       "          Al        0.393131\n",
       "          Graphite  0.984087\n",
       "          Al_pack   0.304030\n",
       "          Steel     0.405383\n",
       "          Cu_pack   0.081947\n",
       "          Plastics  0.375456\n",
       "  Li-S    Li        1.000000\n",
       "          Co        0.000000\n",
       "          Ni        0.000000\n",
       "          Mn        0.000000\n",
       "          Cu        0.750084\n",
       "          Al        0.393131\n",
       "          Graphite  0.984087\n",
       "          Al_pack   0.304030\n",
       "          Steel     0.405383\n",
       "          Cu_pack   0.081947\n",
       "          Plastics  0.375456\n",
       "\n",
       "[616 rows x 1 columns]"
      ],
      "text/html": "<div>\n<style scoped>\n    .dataframe tbody tr th:only-of-type {\n        vertical-align: middle;\n    }\n\n    .dataframe tbody tr th {\n        vertical-align: top;\n    }\n\n    .dataframe thead th {\n        text-align: right;\n    }\n</style>\n<table border=\"1\" class=\"dataframe\">\n  <thead>\n    <tr style=\"text-align: right;\">\n      <th></th>\n      <th></th>\n      <th></th>\n      <th>mean</th>\n    </tr>\n  </thead>\n  <tbody>\n    <tr>\n      <th rowspan=\"30\" valign=\"top\">0</th>\n      <th rowspan=\"11\" valign=\"top\">NCA</th>\n      <th>Li</th>\n      <td>0.110026</td>\n    </tr>\n    <tr>\n      <th>Co</th>\n      <td>0.135000</td>\n    </tr>\n    <tr>\n      <th>Ni</th>\n      <td>0.700000</td>\n    </tr>\n    <tr>\n      <th>Mn</th>\n      <td>0.000000</td>\n    </tr>\n    <tr>\n      <th>Cu</th>\n      <td>0.743417</td>\n    </tr>\n    <tr>\n      <th>Al</th>\n      <td>0.397902</td>\n    </tr>\n    <tr>\n      <th>Graphite</th>\n      <td>0.985314</td>\n    </tr>\n    <tr>\n      <th>Al_pack</th>\n      <td>0.304030</td>\n    </tr>\n    <tr>\n      <th>Steel</th>\n      <td>0.405383</td>\n    </tr>\n    <tr>\n      <th>Cu_pack</th>\n      <td>0.081947</td>\n    </tr>\n    <tr>\n      <th>Plastics</th>\n      <td>0.375456</td>\n    </tr>\n    <tr>\n      <th rowspan=\"11\" valign=\"top\">NCM 532</th>\n      <th>Li</th>\n      <td>0.145654</td>\n    </tr>\n    <tr>\n      <th>Co</th>\n      <td>0.230000</td>\n    </tr>\n    <tr>\n      <th>Ni</th>\n      <td>0.480000</td>\n    </tr>\n    <tr>\n      <th>Mn</th>\n      <td>0.360000</td>\n    </tr>\n    <tr>\n      <th>Cu</th>\n      <td>0.800534</td>\n    </tr>\n    <tr>\n      <th>Al</th>\n      <td>0.416299</td>\n    </tr>\n    <tr>\n      <th>Graphite</th>\n      <td>0.985015</td>\n    </tr>\n    <tr>\n      <th>Al_pack</th>\n      <td>0.304030</td>\n    </tr>\n    <tr>\n      <th>Steel</th>\n      <td>0.405383</td>\n    </tr>\n    <tr>\n      <th>Cu_pack</th>\n      <td>0.081947</td>\n    </tr>\n    <tr>\n      <th>Plastics</th>\n      <td>0.375456</td>\n    </tr>\n    <tr>\n      <th rowspan=\"8\" valign=\"top\">NCM 622</th>\n      <th>Li</th>\n      <td>0.131165</td>\n    </tr>\n    <tr>\n      <th>Co</th>\n      <td>0.195000</td>\n    </tr>\n    <tr>\n      <th>Ni</th>\n      <td>0.620000</td>\n    </tr>\n    <tr>\n      <th>Mn</th>\n      <td>0.195000</td>\n    </tr>\n    <tr>\n      <th>Cu</th>\n      <td>0.738353</td>\n    </tr>\n    <tr>\n      <th>Al</th>\n      <td>0.383813</td>\n    </tr>\n    <tr>\n      <th>Graphite</th>\n      <td>0.966156</td>\n    </tr>\n    <tr>\n      <th>Al_pack</th>\n      <td>0.304030</td>\n    </tr>\n    <tr>\n      <th>...</th>\n      <th>...</th>\n      <th>...</th>\n      <td>...</td>\n    </tr>\n    <tr>\n      <th rowspan=\"30\" valign=\"top\">6</th>\n      <th rowspan=\"8\" valign=\"top\">NCM 111</th>\n      <th>Mn</th>\n      <td>0.367000</td>\n    </tr>\n    <tr>\n      <th>Cu</th>\n      <td>0.801000</td>\n    </tr>\n    <tr>\n      <th>Al</th>\n      <td>0.416000</td>\n    </tr>\n    <tr>\n      <th>Graphite</th>\n      <td>0.985000</td>\n    </tr>\n    <tr>\n      <th>Al_pack</th>\n      <td>0.304030</td>\n    </tr>\n    <tr>\n      <th>Steel</th>\n      <td>0.405383</td>\n    </tr>\n    <tr>\n      <th>Cu_pack</th>\n      <td>0.081947</td>\n    </tr>\n    <tr>\n      <th>Plastics</th>\n      <td>0.375456</td>\n    </tr>\n    <tr>\n      <th rowspan=\"11\" valign=\"top\">NCM 955</th>\n      <th>Li</th>\n      <td>0.106472</td>\n    </tr>\n    <tr>\n      <th>Co</th>\n      <td>0.047952</td>\n    </tr>\n    <tr>\n      <th>Ni</th>\n      <td>0.863130</td>\n    </tr>\n    <tr>\n      <th>Mn</th>\n      <td>0.047952</td>\n    </tr>\n    <tr>\n      <th>Cu</th>\n      <td>0.750084</td>\n    </tr>\n    <tr>\n      <th>Al</th>\n      <td>0.393131</td>\n    </tr>\n    <tr>\n      <th>Graphite</th>\n      <td>0.984087</td>\n    </tr>\n    <tr>\n      <th>Al_pack</th>\n      <td>0.304030</td>\n    </tr>\n    <tr>\n      <th>Steel</th>\n      <td>0.405383</td>\n    </tr>\n    <tr>\n      <th>Cu_pack</th>\n      <td>0.081947</td>\n    </tr>\n    <tr>\n      <th>Plastics</th>\n      <td>0.375456</td>\n    </tr>\n    <tr>\n      <th rowspan=\"11\" valign=\"top\">Li-S</th>\n      <th>Li</th>\n      <td>1.000000</td>\n    </tr>\n    <tr>\n      <th>Co</th>\n      <td>0.000000</td>\n    </tr>\n    <tr>\n      <th>Ni</th>\n      <td>0.000000</td>\n    </tr>\n    <tr>\n      <th>Mn</th>\n      <td>0.000000</td>\n    </tr>\n    <tr>\n      <th>Cu</th>\n      <td>0.750084</td>\n    </tr>\n    <tr>\n      <th>Al</th>\n      <td>0.393131</td>\n    </tr>\n    <tr>\n      <th>Graphite</th>\n      <td>0.984087</td>\n    </tr>\n    <tr>\n      <th>Al_pack</th>\n      <td>0.304030</td>\n    </tr>\n    <tr>\n      <th>Steel</th>\n      <td>0.405383</td>\n    </tr>\n    <tr>\n      <th>Cu_pack</th>\n      <td>0.081947</td>\n    </tr>\n    <tr>\n      <th>Plastics</th>\n      <td>0.375456</td>\n    </tr>\n  </tbody>\n</table>\n<p>616 rows × 1 columns</p>\n</div>"
     },
     "metadata": {},
     "execution_count": 43
    }
   ],
   "source": [
    "rep = pd.concat([material]*(len(chemistries.index)-1))\n",
    "rep.index = new\n",
    "rep.columns = ['mean']\n",
    "rep"
   ]
  },
  {
   "cell_type": "code",
   "execution_count": 44,
   "metadata": {},
   "outputs": [
    {
     "output_type": "execute_result",
     "data": {
      "text/plain": [
       "                        mean\n",
       "0 NCA     Li        0.110026\n",
       "          Co        0.135000\n",
       "          Ni        0.700000\n",
       "          Mn        0.000000\n",
       "          Cu        0.743417\n",
       "          Al        0.397902\n",
       "          Graphite  0.985314\n",
       "          Al_pack   0.304030\n",
       "          Steel     0.405383\n",
       "          Cu_pack   0.081947\n",
       "          Plastics  0.375456\n",
       "  NCM 532 Li        0.145654\n",
       "          Co        0.230000\n",
       "          Ni        0.480000\n",
       "          Mn        0.360000\n",
       "          Cu        0.800534\n",
       "          Al        0.416299\n",
       "          Graphite  0.985015\n",
       "          Al_pack   0.304030\n",
       "          Steel     0.405383\n",
       "          Cu_pack   0.081947\n",
       "          Plastics  0.375456\n",
       "  NCM 622 Li        0.131165\n",
       "          Co        0.195000\n",
       "          Ni        0.620000\n",
       "          Mn        0.195000\n",
       "          Cu        0.738353\n",
       "          Al        0.383813\n",
       "          Graphite  0.966156\n",
       "          Al_pack   0.304030\n",
       "...                      ...\n",
       "6 NCM 111 Mn        0.367000\n",
       "          Cu        0.801000\n",
       "          Al        0.416000\n",
       "          Graphite  0.985000\n",
       "          Al_pack   0.304030\n",
       "          Steel     0.405383\n",
       "          Cu_pack   0.081947\n",
       "          Plastics  0.375456\n",
       "  NCM 955 Li        0.106472\n",
       "          Co        0.047952\n",
       "          Ni        0.863130\n",
       "          Mn        0.047952\n",
       "          Cu        0.750084\n",
       "          Al        0.393131\n",
       "          Graphite  0.984087\n",
       "          Al_pack   0.304030\n",
       "          Steel     0.405383\n",
       "          Cu_pack   0.081947\n",
       "          Plastics  0.375456\n",
       "  Li-S    Li        1.000000\n",
       "          Co        0.000000\n",
       "          Ni        0.000000\n",
       "          Mn        0.000000\n",
       "          Cu        0.750084\n",
       "          Al        0.393131\n",
       "          Graphite  0.984087\n",
       "          Al_pack   0.304030\n",
       "          Steel     0.405383\n",
       "          Cu_pack   0.081947\n",
       "          Plastics  0.375456\n",
       "\n",
       "[616 rows x 1 columns]"
      ],
      "text/html": "<div>\n<style scoped>\n    .dataframe tbody tr th:only-of-type {\n        vertical-align: middle;\n    }\n\n    .dataframe tbody tr th {\n        vertical-align: top;\n    }\n\n    .dataframe thead th {\n        text-align: right;\n    }\n</style>\n<table border=\"1\" class=\"dataframe\">\n  <thead>\n    <tr style=\"text-align: right;\">\n      <th></th>\n      <th></th>\n      <th></th>\n      <th>mean</th>\n    </tr>\n  </thead>\n  <tbody>\n    <tr>\n      <th rowspan=\"30\" valign=\"top\">0</th>\n      <th rowspan=\"11\" valign=\"top\">NCA</th>\n      <th>Li</th>\n      <td>0.110026</td>\n    </tr>\n    <tr>\n      <th>Co</th>\n      <td>0.135000</td>\n    </tr>\n    <tr>\n      <th>Ni</th>\n      <td>0.700000</td>\n    </tr>\n    <tr>\n      <th>Mn</th>\n      <td>0.000000</td>\n    </tr>\n    <tr>\n      <th>Cu</th>\n      <td>0.743417</td>\n    </tr>\n    <tr>\n      <th>Al</th>\n      <td>0.397902</td>\n    </tr>\n    <tr>\n      <th>Graphite</th>\n      <td>0.985314</td>\n    </tr>\n    <tr>\n      <th>Al_pack</th>\n      <td>0.304030</td>\n    </tr>\n    <tr>\n      <th>Steel</th>\n      <td>0.405383</td>\n    </tr>\n    <tr>\n      <th>Cu_pack</th>\n      <td>0.081947</td>\n    </tr>\n    <tr>\n      <th>Plastics</th>\n      <td>0.375456</td>\n    </tr>\n    <tr>\n      <th rowspan=\"11\" valign=\"top\">NCM 532</th>\n      <th>Li</th>\n      <td>0.145654</td>\n    </tr>\n    <tr>\n      <th>Co</th>\n      <td>0.230000</td>\n    </tr>\n    <tr>\n      <th>Ni</th>\n      <td>0.480000</td>\n    </tr>\n    <tr>\n      <th>Mn</th>\n      <td>0.360000</td>\n    </tr>\n    <tr>\n      <th>Cu</th>\n      <td>0.800534</td>\n    </tr>\n    <tr>\n      <th>Al</th>\n      <td>0.416299</td>\n    </tr>\n    <tr>\n      <th>Graphite</th>\n      <td>0.985015</td>\n    </tr>\n    <tr>\n      <th>Al_pack</th>\n      <td>0.304030</td>\n    </tr>\n    <tr>\n      <th>Steel</th>\n      <td>0.405383</td>\n    </tr>\n    <tr>\n      <th>Cu_pack</th>\n      <td>0.081947</td>\n    </tr>\n    <tr>\n      <th>Plastics</th>\n      <td>0.375456</td>\n    </tr>\n    <tr>\n      <th rowspan=\"8\" valign=\"top\">NCM 622</th>\n      <th>Li</th>\n      <td>0.131165</td>\n    </tr>\n    <tr>\n      <th>Co</th>\n      <td>0.195000</td>\n    </tr>\n    <tr>\n      <th>Ni</th>\n      <td>0.620000</td>\n    </tr>\n    <tr>\n      <th>Mn</th>\n      <td>0.195000</td>\n    </tr>\n    <tr>\n      <th>Cu</th>\n      <td>0.738353</td>\n    </tr>\n    <tr>\n      <th>Al</th>\n      <td>0.383813</td>\n    </tr>\n    <tr>\n      <th>Graphite</th>\n      <td>0.966156</td>\n    </tr>\n    <tr>\n      <th>Al_pack</th>\n      <td>0.304030</td>\n    </tr>\n    <tr>\n      <th>...</th>\n      <th>...</th>\n      <th>...</th>\n      <td>...</td>\n    </tr>\n    <tr>\n      <th rowspan=\"30\" valign=\"top\">6</th>\n      <th rowspan=\"8\" valign=\"top\">NCM 111</th>\n      <th>Mn</th>\n      <td>0.367000</td>\n    </tr>\n    <tr>\n      <th>Cu</th>\n      <td>0.801000</td>\n    </tr>\n    <tr>\n      <th>Al</th>\n      <td>0.416000</td>\n    </tr>\n    <tr>\n      <th>Graphite</th>\n      <td>0.985000</td>\n    </tr>\n    <tr>\n      <th>Al_pack</th>\n      <td>0.304030</td>\n    </tr>\n    <tr>\n      <th>Steel</th>\n      <td>0.405383</td>\n    </tr>\n    <tr>\n      <th>Cu_pack</th>\n      <td>0.081947</td>\n    </tr>\n    <tr>\n      <th>Plastics</th>\n      <td>0.375456</td>\n    </tr>\n    <tr>\n      <th rowspan=\"11\" valign=\"top\">NCM 955</th>\n      <th>Li</th>\n      <td>0.106472</td>\n    </tr>\n    <tr>\n      <th>Co</th>\n      <td>0.047952</td>\n    </tr>\n    <tr>\n      <th>Ni</th>\n      <td>0.863130</td>\n    </tr>\n    <tr>\n      <th>Mn</th>\n      <td>0.047952</td>\n    </tr>\n    <tr>\n      <th>Cu</th>\n      <td>0.750084</td>\n    </tr>\n    <tr>\n      <th>Al</th>\n      <td>0.393131</td>\n    </tr>\n    <tr>\n      <th>Graphite</th>\n      <td>0.984087</td>\n    </tr>\n    <tr>\n      <th>Al_pack</th>\n      <td>0.304030</td>\n    </tr>\n    <tr>\n      <th>Steel</th>\n      <td>0.405383</td>\n    </tr>\n    <tr>\n      <th>Cu_pack</th>\n      <td>0.081947</td>\n    </tr>\n    <tr>\n      <th>Plastics</th>\n      <td>0.375456</td>\n    </tr>\n    <tr>\n      <th rowspan=\"11\" valign=\"top\">Li-S</th>\n      <th>Li</th>\n      <td>1.000000</td>\n    </tr>\n    <tr>\n      <th>Co</th>\n      <td>0.000000</td>\n    </tr>\n    <tr>\n      <th>Ni</th>\n      <td>0.000000</td>\n    </tr>\n    <tr>\n      <th>Mn</th>\n      <td>0.000000</td>\n    </tr>\n    <tr>\n      <th>Cu</th>\n      <td>0.750084</td>\n    </tr>\n    <tr>\n      <th>Al</th>\n      <td>0.393131</td>\n    </tr>\n    <tr>\n      <th>Graphite</th>\n      <td>0.984087</td>\n    </tr>\n    <tr>\n      <th>Al_pack</th>\n      <td>0.304030</td>\n    </tr>\n    <tr>\n      <th>Steel</th>\n      <td>0.405383</td>\n    </tr>\n    <tr>\n      <th>Cu_pack</th>\n      <td>0.081947</td>\n    </tr>\n    <tr>\n      <th>Plastics</th>\n      <td>0.375456</td>\n    </tr>\n  </tbody>\n</table>\n<p>616 rows × 1 columns</p>\n</div>"
     },
     "metadata": {},
     "execution_count": 44
    }
   ],
   "source": [
    "rep"
   ]
  },
  {
   "cell_type": "code",
   "execution_count": 45,
   "metadata": {},
   "outputs": [],
   "source": [
    "total_capacity = batt_size_PHEV.reindex(ind, level = 0)\n",
    "total_material = batt_size_PHEV.reindex(new, level=0).mul(rep)"
   ]
  },
  {
   "cell_type": "markdown",
   "metadata": {},
   "source": [
    "## Calculate yearly addition of battery capacity. Units: kWh"
   ]
  },
  {
   "cell_type": "markdown",
   "metadata": {},
   "source": [
    "### BEVs"
   ]
  },
  {
   "cell_type": "markdown",
   "metadata": {},
   "source": [
    "### PHEVs"
   ]
  },
  {
   "cell_type": "code",
   "execution_count": 46,
   "metadata": {},
   "outputs": [],
   "source": [
    "PHEV_cap_RCP26_SSP1 =  total_capacity.values * PHEV_RCP26_SSP1_seg_chem\n",
    "\n",
    "PHEV_cap_RCP26_SSP2 = total_capacity.values * PHEV_RCP26_SSP2_seg_chem\n",
    "\n",
    "PHEV_cap_base_SSP1 = total_capacity.values * PHEV_base_SSP1_seg_chem\n",
    "\n",
    "PHEV_cap_base_SSP2 = total_capacity.values * PHEV_base_SSP2_seg_chem\n",
    "\n",
    "\n",
    "PHEV_cap_RCP26_LED = total_capacity.values * PHEV_RCP26_LED_seg_chem\n",
    "\n",
    "PHEV_cap_base_LED = total_capacity.values * PHEV_base_LED_seg_chem\n",
    "\n"
   ]
  },
  {
   "cell_type": "code",
   "execution_count": 47,
   "metadata": {},
   "outputs": [],
   "source": [
    "PHEV_cap_RCP26_SSP1 = PHEV_cap_RCP26_SSP1.reset_index()\n",
    "PHEV_cap_RCP26_SSP1 = PHEV_cap_RCP26_SSP1.rename(columns={'level_0': 'segment', 'level_1': 'chemistry' }) \n",
    "PHEV_cap_RCP26_SSP1 = PHEV_cap_RCP26_SSP1.set_index(['segment','chemistry'])\n",
    "\n",
    "PHEV_cap_RCP26_SSP2 = PHEV_cap_RCP26_SSP2.reset_index()\n",
    "PHEV_cap_RCP26_SSP2 = PHEV_cap_RCP26_SSP2.rename(columns={'level_0': 'segment', 'level_1': 'chemistry' }) \n",
    "PHEV_cap_RCP26_SSP2 = PHEV_cap_RCP26_SSP2.set_index(['segment','chemistry'])\n",
    "\n",
    "\n",
    "PHEV_cap_base_SSP1 = PHEV_cap_base_SSP1.reset_index()\n",
    "PHEV_cap_base_SSP1 = PHEV_cap_base_SSP1.rename(columns={'level_0': 'segment', 'level_1': 'chemistry' }) \n",
    "PHEV_cap_base_SSP1 = PHEV_cap_base_SSP1.set_index(['segment','chemistry'])\n",
    "\n",
    "PHEV_cap_base_SSP2 = PHEV_cap_base_SSP2.reset_index()\n",
    "PHEV_cap_base_SSP2 = PHEV_cap_base_SSP2.rename(columns={'level_0': 'segment', 'level_1': 'chemistry' }) \n",
    "PHEV_cap_base_SSP2 = PHEV_cap_base_SSP2.set_index(['segment','chemistry'])\n",
    "\n",
    "PHEV_cap_RCP26_LED = PHEV_cap_RCP26_LED.reset_index()\n",
    "PHEV_cap_RCP26_LED = PHEV_cap_RCP26_LED.rename(columns={'level_0': 'segment', 'level_1': 'chemistry' }) \n",
    "PHEV_cap_RCP26_LED = PHEV_cap_RCP26_LED.set_index(['segment','chemistry'])\n",
    "\n",
    "\n",
    "PHEV_cap_base_LED = PHEV_cap_base_LED.reset_index()\n",
    "PHEV_cap_base_LED = PHEV_cap_base_LED.rename(columns={'level_0': 'segment', 'level_1': 'chemistry' }) \n",
    "PHEV_cap_base_LED = PHEV_cap_base_LED.set_index(['segment','chemistry'])\n"
   ]
  },
  {
   "cell_type": "markdown",
   "metadata": {},
   "source": [
    "## Calculate stock additions of materials at any given year, for each segment and chemistry"
   ]
  },
  {
   "cell_type": "markdown",
   "metadata": {},
   "source": [
    "### PHEVs"
   ]
  },
  {
   "cell_type": "code",
   "execution_count": 48,
   "metadata": {},
   "outputs": [],
   "source": [
    "stock_PHEV_base_SSP2 = total_material.values * PHEV_base_SSP2_seg_chem_mat\n",
    "\n",
    "stock_PHEV_base_SSP1 = total_material.values * PHEV_base_SSP1_seg_chem_mat \n",
    "\n",
    "stock_PHEV_RCP26_SSP2 = total_material.values * PHEV_RCP26_SSP2_seg_chem_mat\n",
    "\n",
    "stock_PHEV_RCP26_SSP1 = total_material.values * PHEV_RCP26_SSP1_seg_chem_mat \n",
    "\n",
    "stock_PHEV_base_LED = total_material.values * PHEV_base_LED_seg_chem_mat \n",
    "\n",
    "stock_PHEV_RCP26_LED = total_material.values * PHEV_RCP26_LED_seg_chem_mat\n"
   ]
  },
  {
   "cell_type": "code",
   "execution_count": 49,
   "metadata": {},
   "outputs": [],
   "source": [
    "stock_PHEV_RCP26_SSP1 = stock_PHEV_RCP26_SSP1.reset_index()\n",
    "stock_PHEV_RCP26_SSP1 = stock_PHEV_RCP26_SSP1.rename(columns={'level_0': 'segment', 'level_1': 'chemistry', 'level_2': 'material' }) \n",
    "stock_PHEV_RCP26_SSP1 = stock_PHEV_RCP26_SSP1.set_index(['segment','chemistry','material'])\n",
    "\n",
    "stock_PHEV_RCP26_SSP2 = stock_PHEV_RCP26_SSP2.reset_index()\n",
    "stock_PHEV_RCP26_SSP2 = stock_PHEV_RCP26_SSP2.rename(columns={'level_0': 'segment', 'level_1': 'chemistry', 'level_2': 'material' }) \n",
    "stock_PHEV_RCP26_SSP2 = stock_PHEV_RCP26_SSP2.set_index(['segment','chemistry','material'])\n",
    "\n",
    "stock_PHEV_base_SSP1 = stock_PHEV_base_SSP1.reset_index()\n",
    "stock_PHEV_base_SSP1 = stock_PHEV_base_SSP1.rename(columns={'level_0': 'segment', 'level_1': 'chemistry', 'level_2': 'material' })\n",
    "stock_PHEV_base_SSP1 = stock_PHEV_base_SSP1.set_index(['segment','chemistry','material'])\n",
    "\n",
    "stock_PHEV_base_SSP2 = stock_PHEV_base_SSP2.reset_index()\n",
    "stock_PHEV_base_SSP2 = stock_PHEV_base_SSP2.rename(columns={'level_0': 'segment', 'level_1': 'chemistry', 'level_2': 'material' })\n",
    "stock_PHEV_base_SSP2 = stock_PHEV_base_SSP2.set_index(['segment','chemistry','material'])\n",
    "\n",
    "\n",
    "\n",
    "stock_PHEV_RCP26_LED = stock_PHEV_RCP26_LED.reset_index()\n",
    "stock_PHEV_RCP26_LED = stock_PHEV_RCP26_LED.rename(columns={'level_0': 'segment', 'level_1': 'chemistry', 'level_2': 'material' }) \n",
    "stock_PHEV_RCP26_LED = stock_PHEV_RCP26_LED.set_index(['segment','chemistry','material'])\n",
    "\n",
    "stock_PHEV_base_LED = stock_PHEV_base_LED.reset_index()\n",
    "stock_PHEV_base_LED = stock_PHEV_base_LED.rename(columns={'level_0': 'segment', 'level_1': 'chemistry', 'level_2': 'material' })\n",
    "stock_PHEV_base_LED = stock_PHEV_base_LED.set_index(['segment','chemistry','material'])"
   ]
  },
  {
   "cell_type": "code",
   "execution_count": 51,
   "metadata": {},
   "outputs": [],
   "source": [
    "stock_PHEV_RCP26_SSP1.to_pickle('stock_PHEV_RCP26_SSP1.pkl')\n",
    "stock_PHEV_RCP26_SSP2.to_pickle('stock_PHEV_RCP26_SSP2.pkl')\n",
    "stock_PHEV_base_SSP1.to_pickle('stock_PHEV_base_SSP1.pkl')\n",
    "stock_PHEV_base_SSP2.to_pickle('stock_PHEV_base_SSP2.pkl')\n",
    "\n",
    "stock_PHEV_RCP26_LED.to_pickle('stock_PHEV_RCP26_LED.pkl')\n",
    "stock_PHEV_base_LED.to_pickle('stock_PHEV_base_LED.pkl')\n",
    "\n",
    "PHEV_cap_RCP26_SSP1.to_pickle('PHEV_cap_RCP26_SSP1.pkl')\n",
    "PHEV_cap_RCP26_SSP2.to_pickle('PHEV_cap_RCP26_SSP2.pkl')\n",
    "PHEV_cap_base_SSP1.to_pickle('PHEV_cap_base_SSP1.pkl')\n",
    "PHEV_cap_base_SSP2.to_pickle('PHEV_cap_base_SSP2.pkl')\n",
    "\n",
    "PHEV_cap_RCP26_LED.to_pickle('PHEV_cap_RCP26_LED.pkl')\n",
    "PHEV_cap_base_LED.to_pickle('PHEV_cap_base_LED.pkl')"
   ]
  },
  {
   "cell_type": "markdown",
   "metadata": {},
   "source": [
    "## Export data to Excel for visualization"
   ]
  },
  {
   "cell_type": "markdown",
   "metadata": {},
   "source": [
    "## PHEVs"
   ]
  },
  {
   "cell_type": "markdown",
   "metadata": {},
   "source": [
    "#### Export material stock\n",
    "\n",
    "writer = pd.ExcelWriter('PHEV_Material_Stock.xlsx', engine='xlsxwriter')\n",
    "\n",
    "#Write each dataframe to a different worksheet.\n",
    "stock_PHEV_base_SSP2.divide(1e9).groupby(['material']).sum().to_excel(writer, sheet_name='base_SSP2')\n",
    "stock_PHEV_base_SSP1.divide(1e9).groupby(['material']).sum().to_excel(writer, sheet_name='base_SSP1')\n",
    "stock_PHEV_RCP26_SSP2.divide(1e9).groupby(['material']).sum().to_excel(writer, sheet_name='RCP26_SSP2')\n",
    "stock_PHEV_RCP26_SSP1.divide(1e9).groupby(['material']).sum().to_excel(writer, sheet_name='RCP26_SSP1')\n",
    "#Close the Pandas Excel writer and output the Excel file.\n",
    "writer.save()"
   ]
  },
  {
   "cell_type": "markdown",
   "metadata": {},
   "source": [
    "#### Export capacity installed\n",
    "\n",
    "writer = pd.ExcelWriter('PHEV_Installed_Capacity.xlsx', engine='xlsxwriter')\n",
    "\n",
    "#Write each dataframe to a different worksheet.\n",
    "PHEV_cap_base_SSP2.divide(1e6).to_excel(writer, sheet_name='base_SSP2')\n",
    "PHEV_cap_base_SSP1.divide(1e6).to_excel(writer, sheet_name='base_SSP1')\n",
    "PHEV_cap_RCP26_SSP2.divide(1e6).to_excel(writer, sheet_name='RCP26_SSP2')\n",
    "PHEV_cap_RCP26_SSP1.divide(1e6).to_excel(writer, sheet_name='RCP26_SSP1')\n",
    "\n",
    "#Close the Pandas Excel writer and output the Excel file.\n",
    "writer.save()"
   ]
  },
  {
   "cell_type": "code",
   "execution_count": null,
   "metadata": {},
   "outputs": [],
   "source": []
  },
  {
   "cell_type": "code",
   "execution_count": null,
   "metadata": {},
   "outputs": [],
   "source": []
  },
  {
   "cell_type": "code",
   "execution_count": null,
   "metadata": {},
   "outputs": [],
   "source": []
  },
  {
   "cell_type": "code",
   "execution_count": null,
   "metadata": {},
   "outputs": [],
   "source": []
  },
  {
   "cell_type": "code",
   "execution_count": null,
   "metadata": {},
   "outputs": [],
   "source": []
  },
  {
   "cell_type": "code",
   "execution_count": null,
   "metadata": {},
   "outputs": [],
   "source": []
  },
  {
   "cell_type": "code",
   "execution_count": null,
   "metadata": {},
   "outputs": [],
   "source": []
  },
  {
   "cell_type": "code",
   "execution_count": null,
   "metadata": {},
   "outputs": [],
   "source": []
  },
  {
   "cell_type": "code",
   "execution_count": null,
   "metadata": {},
   "outputs": [],
   "source": []
  },
  {
   "cell_type": "code",
   "execution_count": null,
   "metadata": {},
   "outputs": [],
   "source": []
  },
  {
   "cell_type": "code",
   "execution_count": null,
   "metadata": {
    "pycharm": {
     "name": "#%%\n"
    }
   },
   "outputs": [],
   "source": []
  }
 ],
 "metadata": {
  "kernelspec": {
   "name": "python373jvsc74a57bd060ad0bca86be8e7a2b791f7cc71778462499994a6c0d54a14c3616c1cafde6e0",
   "display_name": "Python 3.7.3 64-bit ('base': conda)"
  },
  "language_info": {
   "codemirror_mode": {
    "name": "ipython",
    "version": 3
   },
   "file_extension": ".py",
   "mimetype": "text/x-python",
   "name": "python",
   "nbconvert_exporter": "python",
   "pygments_lexer": "ipython3",
   "version": "3.7.3"
  }
 },
 "nbformat": 4,
 "nbformat_minor": 2
}